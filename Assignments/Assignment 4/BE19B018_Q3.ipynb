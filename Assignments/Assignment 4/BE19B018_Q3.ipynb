{
 "cells": [
  {
   "cell_type": "code",
   "execution_count": 29,
   "metadata": {},
   "outputs": [],
   "source": [
    "prerequisite_dict = {\"BT3051\":[\"CS1100\", \"BT1000\"], \"CS6024\":[\"BT3051\"], \"CS6091\": [\"CS6024\", \"BT3051\", \"CS1100\"], \"CS1100\":[], \"BT1000\":[]}"
   ]
  },
  {
   "cell_type": "code",
   "execution_count": 30,
   "metadata": {},
   "outputs": [
    {
     "data": {
      "text/plain": [
       "dict"
      ]
     },
     "execution_count": 30,
     "metadata": {},
     "output_type": "execute_result"
    }
   ],
   "source": [
    "type(prerequisite_dict)"
   ]
  },
  {
   "cell_type": "code",
   "execution_count": 31,
   "metadata": {},
   "outputs": [
    {
     "name": "stdout",
     "output_type": "stream",
     "text": [
      "BT3051\n",
      "CS6024\n",
      "CS6091\n",
      "CS1100\n",
      "BT1000\n"
     ]
    }
   ],
   "source": [
    "for i in prerequisite_dict:\n",
    "    print(i)"
   ]
  },
  {
   "cell_type": "code",
   "execution_count": 32,
   "metadata": {},
   "outputs": [
    {
     "data": {
      "text/plain": [
       "5"
      ]
     },
     "execution_count": 32,
     "metadata": {},
     "output_type": "execute_result"
    }
   ],
   "source": [
    "len(prerequisite_dict)"
   ]
  },
  {
   "cell_type": "code",
   "execution_count": 33,
   "metadata": {},
   "outputs": [
    {
     "name": "stdout",
     "output_type": "stream",
     "text": [
      "2\n"
     ]
    }
   ],
   "source": [
    "print(len(prerequisite_dict['BT3051']))\n",
    "course_list = []"
   ]
  },
  {
   "cell_type": "code",
   "execution_count": 39,
   "metadata": {},
   "outputs": [
    {
     "name": "stdout",
     "output_type": "stream",
     "text": [
      "['CS1100', 'BT1000', 'BT3051', 'CS6024', 'CS6091']\n"
     ]
    }
   ],
   "source": [
    "while(len(prerequisite_dict)>0):\n",
    "    for i in list(prerequisite_dict):\n",
    "        if(len(prerequisite_dict[i])==0):\n",
    "            course_list.append(i)\n",
    "            del prerequisite_dict[i]\n",
    "        else:\n",
    "            for j in prerequisite_dict[i]:\n",
    "                if(j in course_list):\n",
    "                    prerequisite_dict[i] = [k for k in prerequisite_dict[i] if k!=j]\n",
    "                    \n",
    "print(course_list)             "
   ]
  },
  {
   "cell_type": "code",
   "execution_count": 12,
   "metadata": {},
   "outputs": [],
   "source": [
    "l1 = ['CS1100']"
   ]
  },
  {
   "cell_type": "code",
   "execution_count": 18,
   "metadata": {},
   "outputs": [
    {
     "name": "stdout",
     "output_type": "stream",
     "text": [
      "dict_items([('BT3051', ['CS1100', 'BT1000']), ('CS6024', ['BT3051']), ('CS6091', ['CS6024', 'BT3051', 'CS1100']), ('CS1100', []), ('BT1000', [])])\n"
     ]
    }
   ],
   "source": [
    "print(prerequisite_dict.items())"
   ]
  },
  {
   "cell_type": "code",
   "execution_count": 19,
   "metadata": {},
   "outputs": [
    {
     "data": {
      "text/plain": [
       "dict_keys(['BT3051', 'CS6024', 'CS6091', 'CS1100', 'BT1000'])"
      ]
     },
     "execution_count": 19,
     "metadata": {},
     "output_type": "execute_result"
    }
   ],
   "source": [
    "prerequisite_dict.keys()"
   ]
  },
  {
   "cell_type": "code",
   "execution_count": 27,
   "metadata": {},
   "outputs": [
    {
     "name": "stdout",
     "output_type": "stream",
     "text": [
      "{'BT3051': ['BT1000'], 'CS6024': ['BT3051'], 'CS6091': ['CS6024', 'BT3051', 'CS1100'], 'CS1100': [], 'BT1000': []}\n"
     ]
    }
   ],
   "source": [
    "for j in prerequisite_dict['BT3051']:\n",
    "    if(j=='CS1100'):\n",
    "        prerequisite_dict['BT3051'] = [k for k in prerequisite_dict['BT3051'] if k!='CS1100']\n",
    "print(prerequisite_dict)"
   ]
  },
  {
   "cell_type": "code",
   "execution_count": 36,
   "metadata": {},
   "outputs": [
    {
     "data": {
      "text/plain": [
       "2"
      ]
     },
     "execution_count": 36,
     "metadata": {},
     "output_type": "execute_result"
    }
   ],
   "source": [
    "len(prerequisite_dict['BT3051'])"
   ]
  },
  {
   "cell_type": "code",
   "execution_count": 38,
   "metadata": {},
   "outputs": [
    {
     "name": "stdout",
     "output_type": "stream",
     "text": [
      "['CS1100', 'BT1000', 'MA1101', 'BT3051', 'CS6024', 'CS6091']\n"
     ]
    }
   ],
   "source": [
    "prerequisite_dict = {\"BT3051\":[\"CS1100\", \"BT1000\"], \"CS6024\":[\"BT3051\"], \"CS6091\": [\"CS6024\", \"BT3051\", \"CS1100\"], \"CS1100\":[], \"BT1000\":[]}\n",
    "course_list = []\n",
    "while(len(prerequisite_dict)>0):\n",
    "    for i in list(prerequisite_dict):\n",
    "        if(len(prerequisite_dict[i])==0):\n",
    "            course_list.append(i)\n",
    "            del prerequisite_dict[i]\n",
    "        else:\n",
    "            for j in prerequisite_dict[i]:\n",
    "                if(j in course_list):\n",
    "                    prerequisite_dict[i] = [k for k in prerequisite_dict[i] if k!=j]\n",
    "                    \n",
    "print(course_list)"
   ]
  },
  {
   "cell_type": "code",
   "execution_count": 1,
   "metadata": {},
   "outputs": [],
   "source": [
    "import networkx as nx"
   ]
  },
  {
   "cell_type": "code",
   "execution_count": 2,
   "metadata": {},
   "outputs": [],
   "source": [
    "prerequisite_dict = {\"BT3051\":[\"CS1100\", \"BT1000\"], \"CS6024\":[\"BT3051\"], \"CS6091\": [\"CS6024\", \"BT3051\", \"CS1100\"], \"CS1100\":[], \"BT1000\":[]}"
   ]
  },
  {
   "cell_type": "code",
   "execution_count": 9,
   "metadata": {},
   "outputs": [
    {
     "data": {
      "image/png": "[encoded data removed]",
      "text/plain": [
       "<Figure size 432x288 with 1 Axes>"
      ]
     },
     "metadata": {},
     "output_type": "display_data"
    }
   ],
   "source": [
    "import matplotlib.pyplot as plt\n",
    "G = nx.DiGraph()\n",
    "for i in prerequisite_dict.keys():\n",
    "    G.add_node(i)\n",
    "    for j in prerequisite_dict[i]:\n",
    "        if j not in G:\n",
    "            G.add_node(j)\n",
    "        G.add_edge(j,i)\n",
    "nx.draw(G,with_labels = True)\n",
    "plt.show()"
   ]
  },
  {
   "cell_type": "code",
   "execution_count": 11,
   "metadata": {},
   "outputs": [
    {
     "name": "stdout",
     "output_type": "stream",
     "text": [
      "BT3051\n",
      "CS1100\n",
      "BT1000\n",
      "CS6024\n",
      "CS6091\n"
     ]
    }
   ],
   "source": [
    " for i in G:\n",
    "        print(i)"
   ]
  },
  {
   "cell_type": "code",
   "execution_count": 12,
   "metadata": {},
   "outputs": [
    {
     "data": {
      "text/plain": [
       "5"
      ]
     },
     "execution_count": 12,
     "metadata": {},
     "output_type": "execute_result"
    }
   ],
   "source": [
    "(list(G.predecessors('CS6091')))\n",
    "len(G)"
   ]
  },
  {
   "cell_type": "code",
   "execution_count": 13,
   "metadata": {},
   "outputs": [
    {
     "name": "stdout",
     "output_type": "stream",
     "text": [
      "['CS1100', 'BT1000', 'BT3051', 'CS6024', 'CS6091']\n"
     ]
    }
   ],
   "source": [
    "ls = []\n",
    "g = G\n",
    "while(len(G))!=0:\n",
    "    for i in list(g):\n",
    "        if(len(list(G.predecessors(i))))==0:\n",
    "            ls.append(i)\n",
    "            G.remove_node(i)\n",
    "#             G.remove_node(i)\n",
    "print(ls)"
   ]
  },
  {
   "cell_type": "code",
   "execution_count": 24,
   "metadata": {},
   "outputs": [
    {
     "name": "stdout",
     "output_type": "stream",
     "text": [
      "['CS1100', 'BT1000', 'BT3051', 'CS6024', 'CS6091']\n"
     ]
    }
   ],
   "source": [
    "import networkx as nx\n",
    "# Use of any function from networkx.algorithms module is strictly not allowed.\n",
    "# Other libraries are not allowed expect for matplotlib for visualization purposes\n",
    "\n",
    "# Add your functions here if needed\n",
    "\n",
    "\n",
    "def planning_your_program(prerequisite_dict):\n",
    "    \"\"\"\n",
    "    Given a dictionary of prerequisite courses, return the list of courses such that the sequence denotes the order in which the courses could possibly be done in order to satisfy the prerequisite condition.\n",
    "    \"\"\"\n",
    "    \n",
    "    \"\"\" Add your functions here if needed \"\"\"\n",
    "    \n",
    "    def create_dependency_graph(prerequisite_dict):\n",
    "        \"\"\"Create and return a networkx dependency graph based on the prerequisite dictionary\"\"\"\n",
    "        G = nx.DiGraph()\n",
    "        # Add your code here\n",
    "        for i in prerequisite_dict.keys():\n",
    "            G.add_node(i) #Add a node for every key present in the dictionary\n",
    "            for j in prerequisite_dict[i]:\n",
    "                if j not in G:\n",
    "                    G.add_node(j) #If the course present in a particular key already exists as a node in graph, don't add it again\n",
    "                G.add_edge(j,i) #Add en edge from the prerequisite course (if any) to the course which is to be taken\n",
    "        return G\n",
    "    \n",
    "    \n",
    "    def find_the_program_pathway(G):\n",
    "        \"\"\"return the required program pathway from the Course Dependency Graph\"\"\"\n",
    "        # Add your code here\n",
    "        course_list = []\n",
    "        g = G\n",
    "        while(len(G))!=0:\n",
    "            for i in list(g):\n",
    "                if(len(list(G.predecessors(i))))==0: #Check if there are any incident edges in for that particular node. If it is zero then add it to the course list\n",
    "                    course_list.append(i)\n",
    "                    G.remove_node(i) #Remove the node which has zero incident edges\n",
    "        \n",
    "        return course_list \n",
    "    \n",
    "    Course_Dependency_Graph = create_dependency_graph(prerequisite_dict)\n",
    "    program_pathway = find_the_program_pathway(Course_Dependency_Graph)\n",
    "    return program_pathway\n",
    "    \n",
    "\n",
    "prerequisite_dict = {\"BT3051\":[\"CS1100\", \"BT1000\"], \"CS6024\":[\"BT3051\"], \"CS6091\": [\"CS6024\", \"BT3051\", \"CS1100\"], \"CS1100\":[], \"BT1000\":[]}\n",
    "\n",
    "print(planning_your_program(prerequisite_dict))\n",
    "# Expected output: [\"BT1000\", \"CS1100\", \"BT3051\", \"CS6024\", \"CS6091\"] or [\"CS1100\", \"BT1000\", \"BT3051\", \"CS6024\", \"CS6091\"]\n",
    "\n",
    "# \"\"\"\n",
    "# Hints:\n",
    "# 1. Firstly, complete all the courses that do not have any prerequisities. \n",
    "# 2. Then check if the first neighbors of the previous courses have prerequisities other than already completed courses. If not, then mark them complete.\n",
    "# 3. Reinterate the 2nd step until all the courses are completed.\n",
    "# \"\"\""
   ]
  },
  {
   "cell_type": "code",
   "execution_count": null,
   "metadata": {},
   "outputs": [],
   "source": []
  }
 ],
 "metadata": {
  "kernelspec": {
   "display_name": "Python 3",
   "language": "python",
   "name": "python3"
  },
  "language_info": {
   "codemirror_mode": {
    "name": "ipython",
    "version": 3
   },
   "file_extension": ".py",
   "mimetype": "text/x-python",
   "name": "python",
   "nbconvert_exporter": "python",
   "pygments_lexer": "ipython3",
   "version": "3.7.6"
  }
 },
 "nbformat": 4,
 "nbformat_minor": 4
}
