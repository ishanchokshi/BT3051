{
 "cells": [
  {
   "cell_type": "code",
   "execution_count": 2,
   "metadata": {},
   "outputs": [
    {
     "name": "stdout",
     "output_type": "stream",
     "text": [
      "2021-09-08 16:30:00\n",
      "PersonalWorldClock Converter:\n",
      "Home: UTC+05:30; Away: UTC-07:00\n",
      "----------------------------------------\n",
      "Converting Away time to Home time\n",
      "Given Away Time: 08/09/21 16:30\n",
      "Home time: 09/09/21 05:00\n",
      "----------------------------------------\n",
      "Converting Home time to Away time\n",
      "Given Home Time: 08/09/21 15:30\n",
      "Away time: 08/09/21 03:00\n"
     ]
    }
   ],
   "source": [
    "# Add library imports here\n",
    "# Only datetime library is allowed.\n",
    "from datetime import datetime,timedelta\n",
    "class PersonalWorldClock():\n",
    "    \"\"\"\n",
    "    The class should be able to convert time to and from the \n",
    "    home time zone and away time zone.\n",
    "\n",
    "    For the example provided in q1_test.txt. The time zones considered are:\n",
    "    - Home: IST\n",
    "    - Away: Pheonix, Arizona, USA\n",
    "\n",
    "    Explaination:\n",
    "    The away time is 12:30 hours ahead of IST.\n",
    "    So essentially, 12:30 in IST will be 00:00 in Pheonix.\n",
    "                    12:00 in Pheonix will be 00:30 in IST (The next day)\n",
    "\n",
    "    Example:\n",
    "    For the given q1_test.txt, the output we expect to get when we run the code:\n",
    "    PersonalWorldClock Converter:\n",
    "    Home: UTC+05:30; Away: UTC-07:00\n",
    "    ----------------------------------------\n",
    "    Converting Away time to Home time\n",
    "    Given Away Time: 08/09/21 16:30\n",
    "    Home time: 09/09/21 05:00\n",
    "    ----------------------------------------\n",
    "    Converting Home time to Away time\n",
    "    Given Home Time: 08/09/21 15:30\n",
    "    Away time: 08/09/21 03:00\n",
    "    \"\"\"\n",
    "\n",
    "    def __init__(self, away_time_zone, home_time_zone=\"+05:30\"):\n",
    "        \"\"\"\n",
    "        Initialize the variables.\n",
    "        Note that the awat time zone will be passed as a string\n",
    "        \"\"\"\n",
    "        self.home_time_zone = self.str_to_int(home_time_zone)\n",
    "        self.away_time_zone = self.str_to_int(away_time_zone)\n",
    "        self.difference = abs(self.home_time_zone-self.away_time_zone)\n",
    "#         print(self.home_time_zone>=self.away_time_zone)\n",
    "#       \n",
    "\n",
    "\n",
    "    def convert_to_home(self, time_to_be_converted):\n",
    "        \"\"\"\n",
    "        Inputs:\n",
    "        - time_to_be_converted: of type str.\n",
    "          Example: \"08/09/21 16:30\"\n",
    "\n",
    "        Outputs:\n",
    "        - Should return a string in the \n",
    "        same format as the input\n",
    "        \"\"\"\n",
    "        input_away_time = datetime.strptime(time_to_be_converted, \"%d/%m/%y %H:%M\")\n",
    "#         print(input_away_time)\n",
    "        if(self.home_time_zone>=self.away_time_zone):\n",
    "            return (input_away_time + timedelta(hours = self.difference)).strftime(\"%d/%m/%y %H:%M\")\n",
    "        else:\n",
    "            return (input_away_time - timedelta(hours = self.difference)).strftime(\"%d/%m/%y %H:%M\")\n",
    "\n",
    "    def convert_to_away(self, time_to_be_converted):\n",
    "        \"\"\"\n",
    "        Inputs:\n",
    "        - time_to_be_converted: of type str.\n",
    "          Example: \"08/09/21 16:30\"\n",
    "\n",
    "        Outputs:\n",
    "        - Should return a string in the \n",
    "        same format as the input\n",
    "        \"\"\"\n",
    "        input_home_time = datetime.strptime(time_to_be_converted, \"%d/%m/%y %H:%M\")\n",
    "        if(self.home_time_zone>=self.away_time_zone):\n",
    "            return (input_home_time - timedelta(hours = self.difference)).strftime(\"%d/%m/%y %H:%M\")\n",
    "        else:\n",
    "            return (input_home_time + timedelta(hours = self.difference)).strftime(\"%d/%m/%y %H:%M\")\n",
    "       \n",
    "    \n",
    "    def str_to_int(self,time_str):\n",
    "        hours = int(time_str[1:3]) #+05:30, -07:00\n",
    "        minutes = int(time_str[-2:])/60\n",
    "        if(time_str[0]=='-'):\n",
    "            time = -1*(hours+minutes)\n",
    "        else:\n",
    "            time = hours+minutes\n",
    "#         print(time)\n",
    "        return time\n",
    "\n",
    "    # You can add any additional function that you might need.\n",
    "\n",
    "if __name__ == \"__main__\":\n",
    "    ################################################\n",
    "    # Don't change anything below this.\n",
    "    ################################################\n",
    "\n",
    "    fin = open(\"q1_test.txt\")\n",
    "    data = fin.read().split(\"\\n\")\n",
    "    fin.close()\n",
    "\n",
    "    away_time_zone = data[0]\n",
    "    home_time_zone = data[1]\n",
    "    given_away_time = data[2]\n",
    "    given_home_time = data[3]\n",
    "\n",
    "    time_converter = PersonalWorldClock(away_time_zone=away_time_zone, home_time_zone=home_time_zone)\n",
    "\n",
    "    # Check time conversion - given away time convert to home time\n",
    "    op_home_time = time_converter.convert_to_home(given_away_time)\n",
    "\n",
    "    # Check time conversion - given home time convert to away time\n",
    "    op_away_time = time_converter.convert_to_away(given_home_time)\n",
    "\n",
    "    # Print and check\n",
    "    print(\"PersonalWorldClock Converter:\\nHome: UTC\", home_time_zone, \"; Away: UTC\", away_time_zone, sep=\"\")\n",
    "    print(\"-\"*40)\n",
    "    print(\"Converting Away time to Home time\")\n",
    "    print(\"Given Away Time:\", given_away_time)\n",
    "    print(\"Home time:\", op_home_time)\n",
    "    print(\"-\"*40)\n",
    "    print(\"Converting Home time to Away time\")\n",
    "    print(\"Given Home Time:\", given_home_time)\n",
    "    print(\"Away time:\", op_away_time)"
   ]
  },
  {
   "cell_type": "code",
   "execution_count": 28,
   "metadata": {},
   "outputs": [],
   "source": [
    "a = (datetime.strptime(\"08/09/01 23:30\", \"%d/%m/%y %H:%M\"))"
   ]
  },
  {
   "cell_type": "code",
   "execution_count": 17,
   "metadata": {},
   "outputs": [
    {
     "name": "stdout",
     "output_type": "stream",
     "text": [
      "PersonalWorldClock Converter:\n",
      "Home: UTC+05:30; Away: UTC-07:00\n",
      "----------------------------------------\n",
      "Converting Away time to Home time\n",
      "Given Away Time: 08/09/21 16:30\n",
      "Home time: 2021-08-09 04:30:00\n",
      "----------------------------------------\n",
      "Converting Home time to Away time\n",
      "Given Home Time: 08/09/21 15:30\n",
      "Away time: 2021-10-09 03:30:00\n"
     ]
    }
   ],
   "source": []
  },
  {
   "cell_type": "code",
   "execution_count": 19,
   "metadata": {},
   "outputs": [
    {
     "data": {
      "text/plain": [
       "-5"
      ]
     },
     "execution_count": 19,
     "metadata": {},
     "output_type": "execute_result"
    }
   ],
   "source": [
    "int(\"-05\")"
   ]
  },
  {
   "cell_type": "code",
   "execution_count": 27,
   "metadata": {},
   "outputs": [
    {
     "name": "stdout",
     "output_type": "stream",
     "text": [
      "7.75\n"
     ]
    }
   ],
   "source": [
    "str = \"-07:45\"\n",
    "print(int(str[-2:])/60+int(str[1:3]))"
   ]
  },
  {
   "cell_type": "code",
   "execution_count": 29,
   "metadata": {},
   "outputs": [
    {
     "name": "stdout",
     "output_type": "stream",
     "text": [
      "2001-09-09 03:15:00\n"
     ]
    }
   ],
   "source": [
    "n = 3.75\n",
    "# Add 2 hours to datetime object\n",
    "final_time = a + timedelta(hours=n)\n",
    "print(final_time)"
   ]
  },
  {
   "cell_type": "code",
   "execution_count": 21,
   "metadata": {},
   "outputs": [
    {
     "ename": "TypeError",
     "evalue": "PersonalWorldClock() takes no arguments",
     "output_type": "error",
     "traceback": [
      "\u001b[1;31m---------------------------------------------------------------------------\u001b[0m",
      "\u001b[1;31mTypeError\u001b[0m                                 Traceback (most recent call last)",
      "\u001b[1;32m<ipython-input-21-e262dd13911f>\u001b[0m in \u001b[0;36m<module>\u001b[1;34m\u001b[0m\n\u001b[0;32m     99\u001b[0m     \u001b[0mgiven_home_time\u001b[0m \u001b[1;33m=\u001b[0m \u001b[0mdata\u001b[0m\u001b[1;33m[\u001b[0m\u001b[1;36m3\u001b[0m\u001b[1;33m]\u001b[0m\u001b[1;33m\u001b[0m\u001b[1;33m\u001b[0m\u001b[0m\n\u001b[0;32m    100\u001b[0m \u001b[1;33m\u001b[0m\u001b[0m\n\u001b[1;32m--> 101\u001b[1;33m     \u001b[0mtime_converter\u001b[0m \u001b[1;33m=\u001b[0m \u001b[0mPersonalWorldClock\u001b[0m\u001b[1;33m(\u001b[0m\u001b[0maway_time_zone\u001b[0m\u001b[1;33m=\u001b[0m\u001b[0maway_time_zone\u001b[0m\u001b[1;33m,\u001b[0m \u001b[0mhome_time_zone\u001b[0m\u001b[1;33m=\u001b[0m\u001b[0mhome_time_zone\u001b[0m\u001b[1;33m)\u001b[0m\u001b[1;33m\u001b[0m\u001b[1;33m\u001b[0m\u001b[0m\n\u001b[0m\u001b[0;32m    102\u001b[0m \u001b[1;33m\u001b[0m\u001b[0m\n\u001b[0;32m    103\u001b[0m     \u001b[1;31m# Check time conversion - given away time convert to home time\u001b[0m\u001b[1;33m\u001b[0m\u001b[1;33m\u001b[0m\u001b[1;33m\u001b[0m\u001b[0m\n",
      "\u001b[1;31mTypeError\u001b[0m: PersonalWorldClock() takes no arguments"
     ]
    }
   ],
   "source": []
  },
  {
   "cell_type": "code",
   "execution_count": null,
   "metadata": {},
   "outputs": [],
   "source": [
    "datetime.astimezone()"
   ]
  }
 ],
 "metadata": {
  "kernelspec": {
   "display_name": "Python 3",
   "language": "python",
   "name": "python3"
  },
  "language_info": {
   "codemirror_mode": {
    "name": "ipython",
    "version": 3
   },
   "file_extension": ".py",
   "mimetype": "text/x-python",
   "name": "python",
   "nbconvert_exporter": "python",
   "pygments_lexer": "ipython3",
   "version": "3.7.6"
  }
 },
 "nbformat": 4,
 "nbformat_minor": 4
}
