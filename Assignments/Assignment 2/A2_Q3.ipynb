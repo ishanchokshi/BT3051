{
 "cells": [
  {
   "cell_type": "code",
   "execution_count": 32,
   "metadata": {},
   "outputs": [
    {
     "data": {
      "text/plain": [
       "<matplotlib.image.AxesImage at 0x1dffd25fac8>"
      ]
     },
     "execution_count": 32,
     "metadata": {},
     "output_type": "execute_result"
    },
    {
     "data": {
      "image/png": "[encoded data removed]",
      "text/plain": [
       "<Figure size 288x288 with 1 Axes>"
      ]
     },
     "metadata": {
      "needs_background": "light"
     },
     "output_type": "display_data"
    }
   ],
   "source": [
    "# DSA for Biology - Assignment 2 \n",
    "# Template for question  - Conway's Game of Life\n",
    "\n",
    "class Simulate_Conways_Game_of_Life():\n",
    "    def __init__(self, MyMatrix):\n",
    "        self.matrix = MyMatrix\n",
    "        \"\"\" Add your code here \"\"\"\n",
    "\n",
    "    \"\"\" Add your functions here \"\"\"\n",
    "    \n",
    "    def neighbour_check(self, current_row , current_column): # Will check and store the values of all the valid neighbours of a cell\n",
    "        neighbour_list = [] #Append the values of all the valid neighbours of the current cell\n",
    "        for row in range(-1,2):\n",
    "            for column in range(-1,2):\n",
    "                neighbouring_row = current_row + row\n",
    "                neighbouring_column = current_column + column \n",
    "                valid_neighbour = True #This acts like a flag to check if the neighbour of the current cell is exists or not\n",
    "                if((neighbouring_row)==current_row and (neighbouring_column)==current_column):\n",
    "                    valid_neighbour = False\n",
    "                if((neighbouring_row)<0 or (neighbouring_row)>=len(self.matrix)): #This checks for corner and edge cases\n",
    "                    valid_neighbour = False\n",
    "                if((neighbouring_column)<0 or (neighbouring_column)>=len(self.matrix[0])): #This also checks for corner and edge cases                    \n",
    "                    valid_neighbour = False\n",
    "                if(valid_neighbour==True):\n",
    "                    neighbour_list.append(self.matrix[neighbouring_row][neighbouring_column])\n",
    "        return neighbour_list   \n",
    "\n",
    "\n",
    "    def simulate_one_step(self):\n",
    "        '''\n",
    "        method that updates the board based on\n",
    "        the check of each cell pr. generation\n",
    "        '''\n",
    "        indices = [] # Will store the indices of the cells whose status needs to be changed \n",
    "        for row in range(len(self.matrix)):\n",
    "            for column in range(len(self.matrix[row])):\n",
    "                find_neighbours = self.neighbour_check(row , column) #Find the number and status of the valid neighbours of each cell\n",
    "                live_neighbours = sum(find_neighbours) # Will caclulate the number of  valid live neighbours for each cell\n",
    "                \n",
    "                if(self.matrix[row][column]==1): \n",
    "                    if(live_neighbours < 2 or live_neighbours > 3):\n",
    "                        indices.append((row,column))   #Finding the positions of the elements whose current status needs to be changed     \n",
    "                   \n",
    "                if(self.matrix[row][column]==0):\n",
    "                    if live_neighbours == 3:\n",
    "                        indices.append((row,column))\n",
    "                    \n",
    "        for (i,j) in indices:\n",
    "            self.matrix[i][j] = self.swap(self.matrix[i][j]) #Changing th status of the selected cells\n",
    "            \n",
    "            \n",
    "    def swap(self,element): #The swap function to change the status\n",
    "        if(element==1):\n",
    "            element = 0\n",
    "        else:\n",
    "            element = 1\n",
    "        return element\n",
    "\n",
    "                \n",
    "    def final_output(self):\n",
    "        \"\"\"\n",
    "        Return the output of the 39th step \n",
    "        \"\"\"\n",
    "        for i in range(39):\n",
    "            self.simulate_one_step()\n",
    "        return self.matrix \n",
    "\n",
    "\n",
    "Glider = [[0 for i in range(100)] for j in range(100)]\n",
    "Glider[1][2] = 1\n",
    "Glider[2][3] = 1\n",
    "Glider[3][1:4] = [1,1,1]\n",
    "\n",
    "# 0 - Dead cell, 1 - Live cell\n",
    "Game1 = Simulate_Conways_Game_of_Life(Glider)\n",
    "Step_39 = Game1.final_output()\n",
    "from matplotlib.pyplot import matshow\n",
    "\n",
    "matshow(Step_39)"
   ]
  },
  {
   "cell_type": "code",
   "execution_count": null,
   "metadata": {},
   "outputs": [],
   "source": [
    "# DSA for Biology - Assignment 2 \n",
    "# Template for question  - Conway's Game of Life\n",
    "\n",
    "class Simulate_Conways_Game_of_Life():\n",
    "    def __init__(self, MyMatrix):\n",
    "        self.matrix = MyMatrix\n",
    "        \"\"\" Add your code here \"\"\"\n",
    "\n",
    "    \"\"\" Add your functions here \"\"\"\n",
    "\n",
    "    def simulate_one_step(self):\n",
    "        \"\"\" Add your code \"\"\"\n",
    "\n",
    "\n",
    "    def final_output(self):\n",
    "        \"\"\"\n",
    "        Return the output of the 39th step \n",
    "        \"\"\"\n",
    "        for i in range(39):\n",
    "            self.simulate_one_step()\n",
    "        return self.matrix \n",
    "\n",
    "\n",
    "Glider = [[0 for i in range(100)] for j in range(100)]\n",
    "Glider[1][2] = 1\n",
    "Glider[2][3] = 1\n",
    "Glider[3][1:4] = [1,1,1]\n",
    "\n",
    "# 0 - Dead cell, 1 - Live cell\n",
    "Game1 = Simulate_Conways_Game_of_Life(Glider)\n",
    "Step_39 = Game1.final_output()\n",
    "\n",
    "from matplotlib.pyplot import matshow\n",
    "\n",
    "matshow(Step_39)"
   ]
  },
  {
   "cell_type": "code",
   "execution_count": 1,
   "metadata": {},
   "outputs": [
    {
     "data": {
      "image/png": "[encoded data removed]",
      "text/plain": [
       "<Figure size 288x288 with 1 Axes>"
      ]
     },
     "metadata": {
      "needs_background": "light"
     },
     "output_type": "display_data"
    },
    {
     "ename": "TypeError",
     "evalue": "Simulate_Conways_Game_of_Life() takes no arguments",
     "output_type": "error",
     "traceback": [
      "\u001b[1;31m---------------------------------------------------------------------------\u001b[0m",
      "\u001b[1;31mTypeError\u001b[0m                                 Traceback (most recent call last)",
      "\u001b[1;32m<ipython-input-1-3ef2d081d218>\u001b[0m in \u001b[0;36m<module>\u001b[1;34m\u001b[0m\n\u001b[0;32m     57\u001b[0m \u001b[1;33m\u001b[0m\u001b[0m\n\u001b[0;32m     58\u001b[0m \u001b[1;31m# 0 - Dead cell, 1 - Live cell\u001b[0m\u001b[1;33m\u001b[0m\u001b[1;33m\u001b[0m\u001b[1;33m\u001b[0m\u001b[0m\n\u001b[1;32m---> 59\u001b[1;33m \u001b[0mGame1\u001b[0m \u001b[1;33m=\u001b[0m \u001b[0mSimulate_Conways_Game_of_Life\u001b[0m\u001b[1;33m(\u001b[0m\u001b[0mGlider\u001b[0m\u001b[1;33m)\u001b[0m\u001b[1;33m\u001b[0m\u001b[1;33m\u001b[0m\u001b[0m\n\u001b[0m\u001b[0;32m     60\u001b[0m \u001b[0mStep_39\u001b[0m \u001b[1;33m=\u001b[0m \u001b[0mGame1\u001b[0m\u001b[1;33m.\u001b[0m\u001b[0mfinal_output\u001b[0m\u001b[1;33m(\u001b[0m\u001b[1;33m)\u001b[0m\u001b[1;33m\u001b[0m\u001b[1;33m\u001b[0m\u001b[0m\n\u001b[0;32m     61\u001b[0m \u001b[1;33m\u001b[0m\u001b[0m\n",
      "\u001b[1;31mTypeError\u001b[0m: Simulate_Conways_Game_of_Life() takes no arguments"
     ]
    }
   ],
   "source": [
    "# Changing import style to import plt instead of matshow\n",
    "import matplotlib.pyplot as plt\n",
    "\n",
    "\n",
    "class Simulate_Conways_Game_of_Life():\n",
    "    def _init_(self, MyMatrix):\n",
    "        self.matrix = MyMatrix\n",
    "\n",
    "    def get_neighbours(self, i, j):\n",
    "        \"\"\"\n",
    "        Gets the number of live neighbours for cell i, j \n",
    "        \"\"\"\n",
    "        count = 0\n",
    "        for x in range(i - 1, i + 2):\n",
    "            for y in range(j - 1, j + 2):\n",
    "                if x == i and y == j:\n",
    "                    continue\n",
    "                if (x < 0 or x >= 100) or (y < 0 or y >= 100):\n",
    "                    continue\n",
    "                count += self.matrix[x][y]\n",
    "        return count\n",
    "\n",
    "    def simulate_one_step(self):\n",
    "        \"\"\"\n",
    "        Simulates one step\n",
    "        \"\"\"\n",
    "        # initially assume all cells are dead\n",
    "        new_matrix = [[0 for i in range(100)] for j in range(100)]\n",
    "        for i in range(100):\n",
    "            for j in range(100):\n",
    "                count = self.get_neighbours(i, j)\n",
    "                # check wether this cell should live in new_matrix based on neighbours in previous matrix i.e. self.matrix\n",
    "                if self.matrix[i][j] and (count == 2 or count == 3):\n",
    "                    new_matrix[i][j] = 1\n",
    "                if not self.matrix[i][j] and (count == 3):\n",
    "                    new_matrix[i][j] = 1\n",
    "        self.matrix = new_matrix\n",
    "\n",
    "    def final_output(self):\n",
    "        \"\"\"\n",
    "        Return the output of the 39th step \n",
    "        \"\"\"\n",
    "        for i in range(39):\n",
    "            self.simulate_one_step()\n",
    "        return self.matrix\n",
    "\n",
    "\n",
    "Glider = [[0 for i in range(100)] for j in range(100)]\n",
    "# setting initial configuration for the Glider as given\n",
    "Glider[51][50] = 1\n",
    "Glider[50][49:52] = [1, 1, 1]\n",
    "\n",
    "# show the layout\n",
    "plt.matshow(Glider)\n",
    "plt.title('Initial Configuration')\n",
    "plt.show()\n",
    "\n",
    "# 0 - Dead cell, 1 - Live cell\n",
    "Game1 = Simulate_Conways_Game_of_Life(Glider)\n",
    "Step_39 = Game1.final_output()\n",
    "\n",
    "# show the final layout\n",
    "plt.matshow(Step_39)\n",
    "plt.title('Final Configuration')\n",
    "plt.show()"
   ]
  },
  {
   "cell_type": "code",
   "execution_count": null,
   "metadata": {},
   "outputs": [],
   "source": []
  }
 ],
 "metadata": {
  "kernelspec": {
   "display_name": "Python 3",
   "language": "python",
   "name": "python3"
  },
  "language_info": {
   "codemirror_mode": {
    "name": "ipython",
    "version": 3
   },
   "file_extension": ".py",
   "mimetype": "text/x-python",
   "name": "python",
   "nbconvert_exporter": "python",
   "pygments_lexer": "ipython3",
   "version": "3.7.6"
  }
 },
 "nbformat": 4,
 "nbformat_minor": 4
}
