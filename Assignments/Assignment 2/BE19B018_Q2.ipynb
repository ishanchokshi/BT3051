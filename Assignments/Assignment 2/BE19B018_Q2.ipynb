{
 "cells": [
  {
   "cell_type": "code",
   "execution_count": 1,
   "metadata": {},
   "outputs": [],
   "source": [
    "class BinaryNumber:\n",
    "    def __init__(self,a):\n",
    "        self.binary = a\n",
    "        \n",
    "    def base_10(self):\n",
    "        decimal = 0\n",
    "        for i in range(len(self.binary)):\n",
    "            decimal = decimal + int(self.binary[i])* 2**(len(self.binary)-i-1)\n",
    "        print(\"Decimal Representation: (\"+str(decimal)+\")\"+\"\\u2081\\u2080\")\n",
    "        \n",
    "    def __str__(self):\n",
    "        print(\"Binary Representation: (\"+self.binary+\")\"+\"\\u2082\")\n",
    "        self.base_10()"
   ]
  },
  {
   "cell_type": "code",
   "execution_count": 2,
   "metadata": {},
   "outputs": [
    {
     "name": "stdout",
     "output_type": "stream",
     "text": [
      "Binary Representation: (011)₂\n",
      "Decimal Representation: (3)₁₀\n"
     ]
    }
   ],
   "source": [
    "obj = BinaryNumber('011')\n",
    "obj.__str__()"
   ]
  },
  {
   "cell_type": "code",
   "execution_count": 4,
   "metadata": {},
   "outputs": [
    {
     "data": {
      "text/plain": [
       "150"
      ]
     },
     "execution_count": 4,
     "metadata": {},
     "output_type": "execute_result"
    }
   ],
   "source": [
    "int(\"1100\",5)"
   ]
  },
  {
   "cell_type": "code",
   "execution_count": null,
   "metadata": {},
   "outputs": [],
   "source": []
  }
 ],
 "metadata": {
  "kernelspec": {
   "display_name": "Python 3",
   "language": "python",
   "name": "python3"
  },
  "language_info": {
   "codemirror_mode": {
    "name": "ipython",
    "version": 3
   },
   "file_extension": ".py",
   "mimetype": "text/x-python",
   "name": "python",
   "nbconvert_exporter": "python",
   "pygments_lexer": "ipython3",
   "version": "3.7.6"
  }
 },
 "nbformat": 4,
 "nbformat_minor": 4
}
