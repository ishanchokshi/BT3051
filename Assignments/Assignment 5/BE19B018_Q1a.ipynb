{
 "cells": [
  {
   "cell_type": "code",
   "execution_count": 3,
   "metadata": {},
   "outputs": [
    {
     "name": "stdout",
     "output_type": "stream",
     "text": [
      "12\n"
     ]
    }
   ],
   "source": [
    "import networkx as nx\n",
    "import matplotlib.pyplot as plt\n",
    "from queue import PriorityQueue\n",
    "# Use of any function from networkx.algorithms module is strictly not allowed.\n",
    "# Other libraries are not allowed expect for matplotlib for visualization purposes\n",
    "\n",
    "# Add your functions here if needed\n",
    "def dijkstra(G, start_node):\n",
    "    n_nodes = len(G.nodes())\n",
    "    paths = {v:float('inf') for v in G.nodes()} #Initializing the value of all nodes as infinity\n",
    "    paths[start_node] = 0 #Initialize the value of node 3 to zero since it is the source\n",
    "    pqueue = PriorityQueue() #Create a priority queue to store the neighbors\n",
    "    pqueue.put((0, start_node)) #Add the starting node to the priority queue\n",
    "    visited = [] #Create a list to store the nodes which are already visited\n",
    "    while not pqueue.empty():\n",
    "        (dist, current_node) = pqueue.get() #Get the next node based on the weight (priority)\n",
    "        visited.append(current_node) #Mark the current node as visited\n",
    "        for neighbor in G.neighbors(current_node):\n",
    "            distance = G[current_node][neighbor]['weight'] #Get the edge weight\n",
    "            if neighbor not in visited:\n",
    "                old_distance = paths[neighbor]\n",
    "                new_distance = paths[current_node] + distance\n",
    "                if new_distance < old_distance: #Replacing the value of the weight; if the new value is less than the old value\n",
    "                    pqueue.put((new_distance, neighbor)) #Add the valeue of the weight to the priority queue\n",
    "                    paths[neighbor] = new_distance\n",
    "    max_key = max(paths, key=paths.get)\n",
    "    return paths[max_key]\n",
    "\n",
    "def minimum_time_for_spread_of_contagion(G, patient_zero):\n",
    "    \"\"\"\n",
    "    Given an connected undirected weighted networkx graph which represents the physical contant graph of a community and a node which represents patient zero of the contagion, return the minimum time taken for the contagion to spread in the complete graph.\n",
    "    \"\"\"\n",
    "    pass\n",
    "    time_taken = dijkstra(G,patient_zero)\n",
    "    return time_taken\n",
    "\n",
    "G = nx.Graph()\n",
    "G.add_edge(1,2,weight = 2); G.add_edge(3,2,weight = 3); G.add_edge(3,1,weight = 2)\n",
    "G.add_edge(3,4,weight = 1); G.add_edge(4,5,weight =3); G.add_edge(5,6,weight =4)\n",
    "G.add_edge(7,6,weight =7); G.add_edge(5,8,weight =2); G.add_edge(7,8,weight =6)\n",
    "\n",
    "print(minimum_time_for_spread_of_contagion(G, 3))\n",
    "# Expected output: 12\n",
    "# Explanation: \n",
    "# Infected node | Time taken to reach that node\n",
    "#      3        |  0\n",
    "#      4        |  1\n",
    "#      1        |  2\n",
    "#      2        |  3\n",
    "#      5        |  4 (1+3)\n",
    "#      8        |  6 (1+3+2)\n",
    "#      7        |  12(1+3+2+6)\n",
    "\n",
    "# Hint:\n",
    "# Therefore, minimum time taken to spread in the community = argmax_i(min(time taken to reach node i from patient zero node))\n",
    "# Mininum time taken to reach node i from patient zero node can be thought of as a dynamic programming question. \n",
    "# Time taken to reach node i from node j can be thought of as a dynamic programming question. \n",
    "# To find the shortest path/minimum time taken for the person to be infected you can either use Dijkstra's algorithm or a dynamic programming variant of Dijkstra's algorithm i.e. Floyd-Warshall algorithm for all pairs of shortest paths\n",
    "\n",
    "# \"\"\"Pseudocode for Floyd-Warshall algorithm\n",
    "# let dist be a |V| × |V| array of minimum distances initialized to ∞ (infinity)\n",
    "# for each edge (u, v) do\n",
    "#     dist[u][v] ← w(u, v)  // The weight of the edge (u, v)\n",
    "# for each vertex v do\n",
    "#     dist[v][v] ← 0\n",
    "# for k from 1 to |V|\n",
    "#     for i from 1 to |V|\n",
    "#         for j from 1 to |V|\n",
    "#             if dist[i][j] > dist[i][k] + dist[k][j] \n",
    "#                 dist[i][j] ← dist[i][k] + dist[k][j]\n",
    "#             end if\n",
    "# \"\"\""
   ]
  },
  {
   "cell_type": "code",
   "execution_count": null,
   "metadata": {},
   "outputs": [],
   "source": []
  }
 ],
 "metadata": {
  "kernelspec": {
   "display_name": "Python 3",
   "language": "python",
   "name": "python3"
  },
  "language_info": {
   "codemirror_mode": {
    "name": "ipython",
    "version": 3
   },
   "file_extension": ".py",
   "mimetype": "text/x-python",
   "name": "python",
   "nbconvert_exporter": "python",
   "pygments_lexer": "ipython3",
   "version": "3.7.6"
  }
 },
 "nbformat": 4,
 "nbformat_minor": 4
}
