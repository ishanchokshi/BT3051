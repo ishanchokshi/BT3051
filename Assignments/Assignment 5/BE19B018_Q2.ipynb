{
 "cells": [
  {
   "cell_type": "code",
   "execution_count": 8,
   "metadata": {},
   "outputs": [
    {
     "name": "stdout",
     "output_type": "stream",
     "text": [
      "e =  2.7304104658506905\n"
     ]
    }
   ],
   "source": [
    "import matplotlib.pyplot as plt\n",
    "from numpy import random\n",
    "# no other libraries are allowed\n",
    "\n",
    "def func(x):\n",
    "    return 1/x\n",
    "\n",
    "def Estimated_area_under_curve(func, lower_limit, higher_limit):\n",
    "    \"\"\"\n",
    "    Estimate the area under the curve for a given function using the method discussed in the class using random numbers.\n",
    "    Assume the input function to be monotonic.\n",
    "    \"\"\"\n",
    "    area = 0\n",
    "    \"\"\" Add your code here \"\"\"\n",
    "    points = []\n",
    "    for i in range(100000): #Generate random points within the rectangle\n",
    "        x = random.uniform(0.5,2)\n",
    "        y = random.uniform(0,max(func(0.5),func(2)))\n",
    "        points.append((x,y))\n",
    "    interior = 0\n",
    "    for i in range(len(points)):\n",
    "        if(points[i][1]-func(points[i][0])<=0):\n",
    "            interior = interior + 1 #Count the number of points generated which are under the curve\n",
    "    area = (interior/100000)*(2-0.5)*(max(func(0.5),func(2))) # Area = (Fraction of points generated within the rectangle which are under the curve) * Area of the rectangle formed\n",
    "    return area\n",
    "\n",
    "Estimated_area = Estimated_area_under_curve(func, 1/2, 2)\n",
    "estimated_e = 0\n",
    "# Find the area under the curve analytically. Equating the analytical expression and with the estimated value, find the value of the irrational number e. Hint, use log to the base 2.\n",
    "\"\"\" Add your code here \"\"\"\n",
    "estimated_e = 2**(2/Estimated_area) #2ln2 = area => 1/log_2(e) = area/2 => e = 2^(2/area)\n",
    "\n",
    "print(\"e = \", str(estimated_e))"
   ]
  },
  {
   "cell_type": "code",
   "execution_count": 1,
   "metadata": {},
   "outputs": [],
   "source": [
    "import math\n",
    "def func(x):\n",
    "    return math.sin(x)*math.cos(x)"
   ]
  },
  {
   "cell_type": "code",
   "execution_count": 6,
   "metadata": {},
   "outputs": [
    {
     "data": {
      "text/plain": [
       "1.2246467991473532e-16"
      ]
     },
     "execution_count": 6,
     "metadata": {},
     "output_type": "execute_result"
    }
   ],
   "source": [
    "math.sin(math.pi)"
   ]
  },
  {
   "cell_type": "code",
   "execution_count": 24,
   "metadata": {},
   "outputs": [
    {
     "data": {
      "text/plain": [
       "     fun: -0.5\n",
       " message: 'Solution found.'\n",
       "    nfev: 6\n",
       "  status: 0\n",
       " success: True\n",
       "       x: 0.7853981633974485"
      ]
     },
     "execution_count": 24,
     "metadata": {},
     "output_type": "execute_result"
    }
   ],
   "source": [
    "import scipy.stats\n",
    "def f(x): return math.sin(x)*math.cos(x)\n",
    "solution = scipy.optimize.minimize_scalar(lambda x: -f(x), bounds=[0,math.pi/2], method='bounded')\n"
   ]
  },
  {
   "cell_type": "code",
   "execution_count": 25,
   "metadata": {},
   "outputs": [],
   "source": [
    "d  = 1"
   ]
  },
  {
   "cell_type": "code",
   "execution_count": 27,
   "metadata": {},
   "outputs": [
    {
     "name": "stdout",
     "output_type": "stream",
     "text": [
      "1.618033988749895\n"
     ]
    }
   ],
   "source": [
    "for i  in range(100000):\n",
    "    d = 1 + 1/d\n",
    "print(d)"
   ]
  },
  {
   "cell_type": "code",
   "execution_count": 46,
   "metadata": {},
   "outputs": [],
   "source": [
    "s = 'ATGC'\n",
    "ls = []\n",
    "k = 2\n",
    "for i in range(0,len(s)-k+1):\n",
    "        ls.append(s[i:i+k])"
   ]
  },
  {
   "cell_type": "code",
   "execution_count": 47,
   "metadata": {},
   "outputs": [],
   "source": [
    "ls2 = sorted(ls, key=len)"
   ]
  },
  {
   "cell_type": "code",
   "execution_count": 48,
   "metadata": {},
   "outputs": [
    {
     "data": {
      "text/plain": [
       "['AT', 'TG', 'GC']"
      ]
     },
     "execution_count": 48,
     "metadata": {},
     "output_type": "execute_result"
    }
   ],
   "source": [
    "ls2"
   ]
  },
  {
   "cell_type": "code",
   "execution_count": null,
   "metadata": {},
   "outputs": [],
   "source": []
  }
 ],
 "metadata": {
  "kernelspec": {
   "display_name": "Python 3",
   "language": "python",
   "name": "python3"
  },
  "language_info": {
   "codemirror_mode": {
    "name": "ipython",
    "version": 3
   },
   "file_extension": ".py",
   "mimetype": "text/x-python",
   "name": "python",
   "nbconvert_exporter": "python",
   "pygments_lexer": "ipython3",
   "version": "3.7.6"
  }
 },
 "nbformat": 4,
 "nbformat_minor": 4
}
