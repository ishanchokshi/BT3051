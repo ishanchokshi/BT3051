{
 "cells": [
  {
   "cell_type": "code",
   "execution_count": 2,
   "metadata": {},
   "outputs": [],
   "source": [
    "from queue import PriorityQueue\n",
    "import networkx as nx\n",
    "import matplotlib.pyplot as plt"
   ]
  },
  {
   "cell_type": "code",
   "execution_count": 14,
   "metadata": {},
   "outputs": [],
   "source": [
    " def dijkstra(G, start_vertex):\n",
    "    n_nodes = len(G.nodes())\n",
    "    D = {v:float('inf') for v in G.nodes()}\n",
    "    D[start_vertex] = 0\n",
    "#     A = nx.adjacency_matrix(G)\n",
    "    pq = PriorityQueue()\n",
    "    pq.put((0, start_vertex))\n",
    "    visited = []\n",
    "    while not pq.empty():\n",
    "        (dist, current_vertex) = pq.get()\n",
    "        visited.append(current_vertex)\n",
    "\n",
    "        for neighbor in G.neighbors(current_vertex):\n",
    "            distance = G[current_vertex][neighbor]['weight']\n",
    "            if neighbor not in visited:\n",
    "                old_cost = D[neighbor]\n",
    "                new_cost = D[current_vertex] + distance\n",
    "                if new_cost < old_cost:\n",
    "                    pq.put((new_cost, neighbor))\n",
    "                    D[neighbor] = new_cost\n",
    "    max_key = max(D, key=D.get)\n",
    "    return D[max_key]"
   ]
  },
  {
   "cell_type": "code",
   "execution_count": 15,
   "metadata": {},
   "outputs": [],
   "source": [
    "G = nx.Graph()\n",
    "G.add_edge(1,2,weight = 2)\n",
    "G.add_edge(3,2,weight = 3)\n",
    "G.add_edge(3,1,weight = 2)\n",
    "G.add_edge(3,4,weight = 1)\n",
    "G.add_edge(4,5,weight =3)\n",
    "G.add_edge(5,6,weight =4)\n",
    "G.add_edge(7,6,weight =7)\n",
    "G.add_edge(5,8,weight =2)\n",
    "G.add_edge(7,8,weight =6)"
   ]
  },
  {
   "cell_type": "code",
   "execution_count": 16,
   "metadata": {},
   "outputs": [
    {
     "name": "stdout",
     "output_type": "stream",
     "text": [
      "12\n"
     ]
    }
   ],
   "source": [
    "#put  in a loop\n",
    "D = dijkstra(G,3)\n",
    "print(D)"
   ]
  },
  {
   "cell_type": "code",
   "execution_count": 13,
   "metadata": {},
   "outputs": [
    {
     "data": {
      "text/plain": [
       "12"
      ]
     },
     "execution_count": 13,
     "metadata": {},
     "output_type": "execute_result"
    }
   ],
   "source": [
    "max_key = max(D, key=D.get)\n",
    "D[max_key]"
   ]
  },
  {
   "cell_type": "code",
   "execution_count": 26,
   "metadata": {},
   "outputs": [
    {
     "data": {
      "image/png": "[encoded data removed]",
      "text/plain": [
       "<Figure size 432x288 with 1 Axes>"
      ]
     },
     "metadata": {},
     "output_type": "display_data"
    }
   ],
   "source": [
    "# nx.draw(G,with_labels=True)\n",
    "pos = nx.spring_layout(G)\n",
    "weights = nx.get_edge_attributes(G,'weight')\n",
    "nx.draw(G,pos,with_labels=True)\n",
    "nx.draw_networkx_edge_labels(G,pos,edge_labels=weights)\n",
    "\n",
    "plt.show()"
   ]
  },
  {
   "cell_type": "code",
   "execution_count": 2,
   "metadata": {},
   "outputs": [
    {
     "name": "stdout",
     "output_type": "stream",
     "text": [
      "12\n"
     ]
    },
    {
     "data": {
      "text/plain": [
       "'Pseudocode for Floyd-Warshall algorithm\\nlet dist be a |V| × |V| array of minimum distances initialized to ∞ (infinity)\\nfor each edge (u, v) do\\n    dist[u][v] ← w(u, v)  // The weight of the edge (u, v)\\nfor each vertex v do\\n    dist[v][v] ← 0\\nfor k from 1 to |V|\\n    for i from 1 to |V|\\n        for j from 1 to |V|\\n            if dist[i][j] > dist[i][k] + dist[k][j] \\n                dist[i][j] ← dist[i][k] + dist[k][j]\\n            end if\\n'"
      ]
     },
     "execution_count": 2,
     "metadata": {},
     "output_type": "execute_result"
    }
   ],
   "source": [
    "import networkx as nx\n",
    "import matplotlib.pyplot as plt\n",
    "from queue import PriorityQueue\n",
    "# Use of any function from networkx.algorithms module is strictly not allowed.\n",
    "# Other libraries are not allowed expect for matplotlib for visualization purposes\n",
    "\n",
    "# Add your functions here if needed\n",
    "def dijkstra(G, start_node):\n",
    "    n_nodes = len(G.nodes())\n",
    "    paths = {v:float('inf') for v in G.nodes()} #Initializing the value of all nodes as infinity\n",
    "    paths[start_node] = 0 #Initialize the value of node 3 to zero since it is the source\n",
    "    pq = PriorityQueue() #Create a priority queue to store the neighbors\n",
    "    pq.put((0, start_node))\n",
    "    visited = [] #Create a list to store the nodes which are already visited\n",
    "    while not pq.empty():\n",
    "        (dist, current_node) = pq.get() #Get the next node based on the weight (priority)\n",
    "        visited.append(current_node)\n",
    "        for neighbor in G.neighbors(current_node):\n",
    "            distance = G[current_node][neighbor]['weight'] #Get the edge weight\n",
    "            if neighbor not in visited:\n",
    "                old_distance = paths[neighbor]\n",
    "                new_distance = paths[current_node] + distance\n",
    "                if new_distance < old_distance: #Replacing the value of the weight if the new value is less than the old value\n",
    "                    pq.put((new_distance, neighbor))\n",
    "                    paths[neighbor] = new_distance\n",
    "    max_key = max(paths, key=paths.get)\n",
    "    return paths[max_key]\n",
    "\n",
    "def minimum_time_for_spread_of_contagion(G, patient_zero):\n",
    "    \"\"\"\n",
    "    Given an connected undirected weighted networkx graph which represents the physical contant graph of a community and a node which represents patient zero of the contagion, return the minimum time taken for the contagion to spread in the complete graph.\n",
    "    \"\"\"\n",
    "    pass\n",
    "    time_taken = dijkstra(G,patient_zero)\n",
    "    return time_taken\n",
    "\n",
    "G = nx.Graph()\n",
    "G.add_edge(1,2,weight = 2); G.add_edge(3,2,weight = 3); G.add_edge(3,1,weight = 2)\n",
    "G.add_edge(3,4,weight = 1); G.add_edge(4,5,weight =3); G.add_edge(5,6,weight =4)\n",
    "G.add_edge(7,6,weight =7); G.add_edge(5,8,weight =2); G.add_edge(7,8,weight =6)\n",
    "\n",
    "print(minimum_time_for_spread_of_contagion(G, 3))\n",
    "# Expected output: 12\n",
    "# Explanation: \n",
    "# Infected node | Time taken to reach that node\n",
    "#      3        |  0\n",
    "#      4        |  1\n",
    "#      1        |  2\n",
    "#      2        |  3\n",
    "#      5        |  4 (1+3)\n",
    "#      8        |  6 (1+3+2)\n",
    "#      7        |  12(1+3+2+6)\n",
    "\n",
    "# Hint:\n",
    "# Therefore, minimum time taken to spread in the community = argmax_i(min(time taken to reach node i from patient zero node))\n",
    "# Mininum time taken to reach node i from patient zero node can be thought of as a dynamic programming question. \n",
    "# Time taken to reach node i from node j can be thought of as a dynamic programming question. \n",
    "# To find the shortest path/minimum time taken for the person to be infected you can either use Dijkstra's algorithm or a dynamic programming variant of Dijkstra's algorithm i.e. Floyd-Warshall algorithm for all pairs of shortest paths\n",
    "\n",
    "\"\"\"Pseudocode for Floyd-Warshall algorithm\n",
    "let dist be a |V| × |V| array of minimum distances initialized to ∞ (infinity)\n",
    "for each edge (u, v) do\n",
    "    dist[u][v] ← w(u, v)  // The weight of the edge (u, v)\n",
    "for each vertex v do\n",
    "    dist[v][v] ← 0\n",
    "for k from 1 to |V|\n",
    "    for i from 1 to |V|\n",
    "        for j from 1 to |V|\n",
    "            if dist[i][j] > dist[i][k] + dist[k][j] \n",
    "                dist[i][j] ← dist[i][k] + dist[k][j]\n",
    "            end if\n",
    "\"\"\""
   ]
  },
  {
   "cell_type": "code",
   "execution_count": null,
   "metadata": {},
   "outputs": [],
   "source": []
  }
 ],
 "metadata": {
  "kernelspec": {
   "display_name": "Python 3",
   "language": "python",
   "name": "python3"
  },
  "language_info": {
   "codemirror_mode": {
    "name": "ipython",
    "version": 3
   },
   "file_extension": ".py",
   "mimetype": "text/x-python",
   "name": "python",
   "nbconvert_exporter": "python",
   "pygments_lexer": "ipython3",
   "version": "3.7.6"
  }
 },
 "nbformat": 4,
 "nbformat_minor": 4
}
