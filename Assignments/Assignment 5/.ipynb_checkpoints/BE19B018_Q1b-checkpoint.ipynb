{
 "cells": [
  {
   "cell_type": "code",
   "execution_count": 3,
   "metadata": {},
   "outputs": [],
   "source": [
    "from queue import PriorityQueue\n",
    "import networkx as nx\n",
    "import matplotlib.pyplot as plt"
   ]
  },
  {
   "cell_type": "code",
   "execution_count": 4,
   "metadata": {},
   "outputs": [],
   "source": [
    " def dijkstra(G, start_vertex):\n",
    "    n_nodes = len(G.nodes())\n",
    "    D = {v:float('inf') for v in G.nodes()}\n",
    "    D[start_vertex] = 0\n",
    "#     A = nx.adjacency_matrix(G)\n",
    "    pq = PriorityQueue()\n",
    "    pq.put((0, start_vertex))\n",
    "    visited = []\n",
    "    while not pq.empty():\n",
    "        (dist, current_vertex) = pq.get()\n",
    "        visited.append(current_vertex)\n",
    "\n",
    "        for neighbor in G.neighbors(current_vertex):\n",
    "            distance = G[current_vertex][neighbor]['weight']\n",
    "            if neighbor not in visited:\n",
    "                old_cost = D[neighbor]\n",
    "                new_cost = D[current_vertex] + distance\n",
    "                if new_cost < old_cost:\n",
    "                    pq.put((new_cost, neighbor))\n",
    "                    D[neighbor] = new_cost\n",
    "    max_key = max(D, key=D.get)\n",
    "    return D[max_key]"
   ]
  },
  {
   "cell_type": "code",
   "execution_count": 5,
   "metadata": {},
   "outputs": [],
   "source": [
    "G = nx.Graph()\n",
    "G.add_edge(1,2,weight = 2)\n",
    "G.add_edge(3,2,weight = 3)\n",
    "G.add_edge(3,1,weight = 2)\n",
    "G.add_edge(3,4,weight = 1)\n",
    "G.add_edge(4,5,weight =3)\n",
    "G.add_edge(5,6,weight =4)\n",
    "G.add_edge(7,6,weight =7)\n",
    "G.add_edge(5,8,weight =2)\n",
    "G.add_edge(7,8,weight =6)"
   ]
  },
  {
   "cell_type": "code",
   "execution_count": 7,
   "metadata": {},
   "outputs": [
    {
     "data": {
      "text/plain": [
       "[14, 15, 12, 11, 8, 11, 15, 9]"
      ]
     },
     "execution_count": 7,
     "metadata": {},
     "output_type": "execute_result"
    }
   ],
   "source": [
    "ls = []\n",
    "for i in G.nodes():\n",
    "    D = dijkstra(G,i)\n",
    "    ls.append(D)\n",
    "min(ls)"
   ]
  },
  {
   "cell_type": "code",
   "execution_count": 10,
   "metadata": {},
   "outputs": [
    {
     "name": "stdout",
     "output_type": "stream",
     "text": [
      "8\n"
     ]
    }
   ],
   "source": [
    "import networkx as nx\n",
    "# Use of any function from networkx.algorithms module is strictly not allowed.\n",
    "# Other libraries are not allowed expect for matplotlib for visualization purposes\n",
    "\n",
    "# Add your functions here if needed\n",
    "# You are allowed to use the function that you used in the previous subquestion\n",
    "\n",
    "def dijkstra(G, start_node):\n",
    "    n_nodes = len(G.nodes())\n",
    "    paths = {v:float('inf') for v in G.nodes()} #Initializing the value of all nodes as infinity\n",
    "    paths[start_node] = 0 #Initialize the value of node 3 to zero since it is the source\n",
    "    pq = PriorityQueue() #Create a priority queue to store the neighbors\n",
    "    pq.put((0, start_node))\n",
    "    visited = [] #Create a list to store the nodes which are already visited\n",
    "    while not pq.empty():\n",
    "        (dist, current_node) = pq.get() #Get the next node based on the weight (priority)\n",
    "        visited.append(current_node)\n",
    "        for neighbor in G.neighbors(current_node):\n",
    "            distance = G[current_node][neighbor]['weight'] #Get the edge weight\n",
    "            if neighbor not in visited:\n",
    "                old_distance = paths[neighbor]\n",
    "                new_distance = paths[current_node] + distance\n",
    "                if new_distance < old_distance: #Replacing the value of the weight if the new value is less than the old value\n",
    "                    pq.put((new_distance, neighbor))\n",
    "                    paths[neighbor] = new_distance\n",
    "    max_key = max(paths, key=paths.get)\n",
    "    return paths[max_key]\n",
    "\n",
    "def most_critical_node_for_contagion(G):\n",
    "    \"\"\"\n",
    "    Given an connected undirected weighted networkx graph which represents the physical contant graph of a community, return the most critical node. The infection of the most critical node will result in minimum time for the spread in the whole community.\n",
    "    \"\"\"\n",
    "    pass\n",
    "    infection_time = []\n",
    "    for i in G.nodes():\n",
    "        time_taken = dijkstra(G,i)\n",
    "        infection_time.append(time_taken)\n",
    "    return min(infection_time)\n",
    "\n",
    "G = nx.Graph()\n",
    "G.add_edge(1,2,weight = 2); G.add_edge(3,2,weight = 3); G.add_edge(3,1,weight = 2)\n",
    "G.add_edge(3,4,weight = 1); G.add_edge(4,5,weight =3); G.add_edge(5,6,weight =4)\n",
    "G.add_edge(7,6,weight =7); G.add_edge(5,8,weight =2); G.add_edge(7,8,weight =6)\n",
    "\n",
    "print(most_critical_node_for_contagion(G))\n",
    "# Expected output: 8\n",
    "# Explanation: \n",
    "# Patient zero node | minimum time taken\n",
    "#      1            |  15\n",
    "#      2            |  16\n",
    "#      3            |  12\n",
    "#      4            |  11\n",
    "#      5            |  8 - minimum time\n",
    "#      6            |  12\n",
    "#      7            |  15"
   ]
  },
  {
   "cell_type": "code",
   "execution_count": null,
   "metadata": {},
   "outputs": [],
   "source": []
  }
 ],
 "metadata": {
  "kernelspec": {
   "display_name": "Python 3",
   "language": "python",
   "name": "python3"
  },
  "language_info": {
   "codemirror_mode": {
    "name": "ipython",
    "version": 3
   },
   "file_extension": ".py",
   "mimetype": "text/x-python",
   "name": "python",
   "nbconvert_exporter": "python",
   "pygments_lexer": "ipython3",
   "version": "3.7.6"
  }
 },
 "nbformat": 4,
 "nbformat_minor": 4
}
