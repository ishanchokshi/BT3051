{
 "cells": [
  {
   "cell_type": "code",
   "execution_count": null,
   "metadata": {},
   "outputs": [],
   "source": [
    "def k_closest_points(x_array, y_array, point, k):\n",
    "    \"\"\"\n",
    "    (list of float, list of float, tuple of two floats, int) -> (list of float), (list of float)\n",
    "    \n",
    "    >>> k_closest_points([1.0, 1.0, 3.0, 5.0], [0.0, 3.0, 4.0, 5.0], (0.0, 0.0), 2)\n",
    "        [1.0, 1.0], [0.0, 3.0]\n",
    "    \"\"\"\n",
    "    \"\"\" Add your code here \"\"\"\n",
    "    "
   ]
  },
  {
   "cell_type": "code",
   "execution_count": 3,
   "metadata": {},
   "outputs": [
    {
     "name": "stdout",
     "output_type": "stream",
     "text": [
      "([1.0, 1.0], [0.0, 3.0])\n"
     ]
    }
   ],
   "source": [
    "# no libraries are allowed\n",
    "\n",
    "\"\"\" Add your functions here \"\"\"\n",
    "\n",
    "def k_closest_points(x_array, y_array, point, k):\n",
    "\t\"\"\"\n",
    "\t(list of float, list of float, tuple of two floats, int) -> (list of float), (list of float)\n",
    "\t\n",
    "\t>>> k_closest_points([1.0, 1.0, 3.0, 5.0], [0.0, 3.0, 4.0, 5.0], (0.0, 0.0), 2)\n",
    "\t    [1.0, 1.0], [0.0, 3.0]\n",
    "\t\"\"\"\n",
    "# \tassert (len(x_array) == len(y_array))\n",
    "\tn = len(x_array)\n",
    "# \tassert (k <= n)\n",
    "\tall_points = [[x_array[i], y_array[i]] for i in range(n)]\n",
    "\tall_points = sorted(all_points, key=lambda e: ((e[0] - point[0]) ** 2 + (e[1] - point[1]) ** 2)) # sort all points according to euclidean distance\n",
    "\tclosest_k_x = [all_points[i][0] for i in range(k)]\n",
    "\tclosest_k_y = [all_points[i][1] for i in range(k)]\n",
    "\treturn closest_k_x, closest_k_y\n",
    "\n",
    "print(k_closest_points([1.0, 1.0, 3.0, 5.0], [0.0, 3.0, 4.0, 5.0], (0.0, 0.0), 2))"
   ]
  },
  {
   "cell_type": "code",
   "execution_count": null,
   "metadata": {},
   "outputs": [],
   "source": []
  }
 ],
 "metadata": {
  "kernelspec": {
   "display_name": "Python 3",
   "language": "python",
   "name": "python3"
  },
  "language_info": {
   "codemirror_mode": {
    "name": "ipython",
    "version": 3
   },
   "file_extension": ".py",
   "mimetype": "text/x-python",
   "name": "python",
   "nbconvert_exporter": "python",
   "pygments_lexer": "ipython3",
   "version": "3.7.6"
  }
 },
 "nbformat": 4,
 "nbformat_minor": 4
}
