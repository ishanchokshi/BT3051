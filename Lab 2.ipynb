{
 "cells": [
  {
   "cell_type": "markdown",
   "metadata": {},
   "source": [
    "## Q1"
   ]
  },
  {
   "cell_type": "code",
   "execution_count": 46,
   "metadata": {},
   "outputs": [
    {
     "name": "stdout",
     "output_type": "stream",
     "text": [
      "-1\n"
     ]
    }
   ],
   "source": [
    "def linear_search(l,n,search):\n",
    "    for i in range(0,n):\n",
    "        if(l[i]==search):\n",
    "            return (i)\n",
    "    return -1\n",
    "\n",
    "l = [2,7,4,5,9]\n",
    "num = 3\n",
    "length = len(l)\n",
    "a= linear_search(ls,length, num)\n",
    "print(a)"
   ]
  },
  {
   "cell_type": "code",
   "execution_count": 45,
   "metadata": {},
   "outputs": [
    {
     "name": "stdout",
     "output_type": "stream",
     "text": [
      "1\n"
     ]
    }
   ],
   "source": [
    "def binary_search(arr, x):\n",
    "    low = 0\n",
    "    high = len(arr) - 1\n",
    "    mid = 0\n",
    " \n",
    "    while low <= high:\n",
    " \n",
    "        mid = (high + low) // 2\n",
    "        if arr[mid] < x:\n",
    "            low = mid + 1\n",
    "        elif arr[mid] > x:\n",
    "            high = mid - 1\n",
    "        else:\n",
    "            return mid\n",
    "    return -1\n",
    " \n",
    "arr = [4, 5, 8, 15, 22]\n",
    "x = 5\n",
    "result = binary_search(arr, x)\n",
    "print(result)"
   ]
  },
  {
   "cell_type": "code",
   "execution_count": 53,
   "metadata": {},
   "outputs": [
    {
     "name": "stdout",
     "output_type": "stream",
     "text": [
      "-1\n"
     ]
    }
   ],
   "source": [
    "def binary_search(l, low, high, search):\n",
    " \n",
    "    # Check base case\n",
    "    if high >= low:\n",
    "        mid = (high + low) // 2\n",
    "        if l[mid] == search:\n",
    "            return mid\n",
    "        elif l[mid] > search:\n",
    "            return binary_search(l, low, mid - 1, search)\n",
    "        else:\n",
    "            return binary_search(l, mid + 1, high, search)\n",
    "    else:\n",
    "        return -1\n",
    "arr = [4,5,8,15,22]\n",
    "x = 7\n",
    "result = binary_search(arr, 0, len(arr)-1, x)\n",
    "print(result)"
   ]
  },
  {
   "cell_type": "markdown",
   "metadata": {},
   "source": [
    "## Q2"
   ]
  },
  {
   "cell_type": "code",
   "execution_count": 78,
   "metadata": {},
   "outputs": [
    {
     "name": "stdout",
     "output_type": "stream",
     "text": [
      "4\n"
     ]
    }
   ],
   "source": [
    "def smallest_missing(ls, left, right):\n",
    "    if (left!=ls[left]):\n",
    "        return left\n",
    "    mid = (left+right) // 2\n",
    "    if (ls[mid] == mid):\n",
    "        return smallest_missing(ls,mid+1, right)\n",
    "    if (left>right):\n",
    "        return right+1\n",
    "    return smallest_missing(ls,left, mid-1)\n",
    "\n",
    "arr = [0, 1, 2, 3, 5, 6, 9, 11, 15]\n",
    "n = len(arr)\n",
    "a = smallest_missing(arr, 0, n-1)\n",
    "print(a)"
   ]
  },
  {
   "cell_type": "markdown",
   "metadata": {},
   "source": [
    "## Q3"
   ]
  },
  {
   "cell_type": "code",
   "execution_count": null,
   "metadata": {},
   "outputs": [],
   "source": [
    "def search(ls, x):\n",
    "    if(x<=ls[0]):\n",
    "        return 0\n",
    "    elif(x>=ls[-1]):\n",
    "        return len(ls)-1\n",
    "    else:\n",
    "        for i in range(0,len(ls)-1):\n",
    "            if(x>=ls[i] and x<ls[i+1]):\n",
    "                return i\n",
    "\n",
    "def knn(ls,i):"
   ]
  },
  {
   "cell_type": "markdown",
   "metadata": {},
   "source": [
    "## Q4"
   ]
  },
  {
   "cell_type": "code",
   "execution_count": null,
   "metadata": {},
   "outputs": [],
   "source": [
    "def q4(n):\n",
    "\n",
    "    if(n>99999):\n",
    "        print(\"More in 2021\")\n",
    "        return 0\n",
    "    elif:\n",
    "        n_copy = str(n)\n",
    "        for i in range(n_copy):\n",
    "            for i in range(len)\n",
    "                if(int())\n",
    "            return 1\n",
    "            break"
   ]
  },
  {
   "cell_type": "code",
   "execution_count": 79,
   "metadata": {},
   "outputs": [
    {
     "data": {
      "text/plain": [
       "3"
      ]
     },
     "execution_count": 79,
     "metadata": {},
     "output_type": "execute_result"
    }
   ],
   "source": [
    "ls = [1,2,3]\n",
    "ls[-1]"
   ]
  },
  {
   "cell_type": "code",
   "execution_count": null,
   "metadata": {},
   "outputs": [],
   "source": []
  }
 ],
 "metadata": {
  "kernelspec": {
   "display_name": "Python 3",
   "language": "python",
   "name": "python3"
  },
  "language_info": {
   "codemirror_mode": {
    "name": "ipython",
    "version": 3
   },
   "file_extension": ".py",
   "mimetype": "text/x-python",
   "name": "python",
   "nbconvert_exporter": "python",
   "pygments_lexer": "ipython3",
   "version": "3.7.6"
  }
 },
 "nbformat": 4,
 "nbformat_minor": 4
}
