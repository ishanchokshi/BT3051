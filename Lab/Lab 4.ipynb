{
 "cells": [
  {
   "cell_type": "markdown",
   "metadata": {},
   "source": [
    "### Q1: Implementation of Stack using list"
   ]
  },
  {
   "cell_type": "code",
   "execution_count": 2,
   "metadata": {},
   "outputs": [],
   "source": [
    "class ArrayStack:\n",
    "    \n",
    "    def __init__(self,n):\n",
    "        self.stack = []\n",
    "        self.max = n\n",
    "        self.top = -1\n",
    "#       self.size = 0\n",
    "        \n",
    "    def __len__(self):\n",
    "        #Returns number of elements in the stack\n",
    "        return len(self.stack)\n",
    "    \n",
    "    def is_empty(self):\n",
    "        #Check if stack is empty\n",
    "        return len(self.stack)==0\n",
    "    \n",
    "    def is_full(self):\n",
    "        #Check if stack is full\n",
    "        return len(self.stack)==self.max\n",
    "    \n",
    "    def push(self,element):\n",
    "        #Insert an element at the top of the stack\n",
    "        self.stack.append(element)\n",
    "        \n",
    "    def top(self):\n",
    "        #Return the topmost element in the stack\n",
    "        if(self.is_empty()):\n",
    "            s = \"Empty Stack\"\n",
    "            return s\n",
    "        else:\n",
    "            return self.stack[-1]\n",
    "        \n",
    "    def pop(self):\n",
    "        #Remove the topmost element\n",
    "        if(self.is_empty()):\n",
    "            s = \"Empty Stack\"\n",
    "            return s\n",
    "        return self.stack.pop()"
   ]
  },
  {
   "cell_type": "markdown",
   "metadata": {},
   "source": [
    "### Q2: Reverse a string using stack"
   ]
  },
  {
   "cell_type": "code",
   "execution_count": 3,
   "metadata": {},
   "outputs": [
    {
     "name": "stdout",
     "output_type": "stream",
     "text": [
      "Enter string: ishan\n",
      "0\n",
      "nahsi\n"
     ]
    }
   ],
   "source": [
    "st = input(\"Enter string: \")\n",
    "S = ArrayStack(len(st))\n",
    "print(S.__len__())\n",
    "if(len(st)==0):\n",
    "    print(\"Empty String\")\n",
    "else:\n",
    "    for i in range(0,len(st)):\n",
    "        S.push(st[i])\n",
    "    \n",
    "    reverse = \"\"\n",
    "    for i in range(0,len(st)):\n",
    "        reverse = reverse + S.pop()\n",
    "    \n",
    "    print(reverse)"
   ]
  },
  {
   "cell_type": "markdown",
   "metadata": {},
   "source": [
    "### Q3: Implement Queue"
   ]
  },
  {
   "cell_type": "code",
   "execution_count": 33,
   "metadata": {},
   "outputs": [],
   "source": [
    "class ArrayQueue:\n",
    "    def __init__(self,max_capacity)\n",
    "        self.queue = [] #The list\n",
    "        self.max_length = max_capacity\n",
    "        self.size = 0 #The number of elements present in the queue at any time\n",
    "        self.front = 0 #The index of the first element present in the queue at any time\n",
    "        \n",
    "    def __len__(self):\n",
    "        return self.size\n",
    "    \n",
    "    def is_empty(self):\n",
    "        return self.size==0\n",
    "    \n",
    "    def first(self):\n",
    "        #Return the front most element in the queue\n",
    "        return self.queue[front]\n",
    "    \n",
    "    def dequeue(self):\n",
    "        answer = self.queue[self.front]\n",
    "        self.queue[self.front] = None\n",
    "        self.front = (self.front+1) % len(self.queue) #To make the queue cyclic\n",
    "        self.size = self.size-1\n",
    "        return answer\n",
    "    \n",
    "    def enqueue(self,element):\n",
    "        if(self.size==len(self.queue)):\n",
    "            s = \"Queue is full\"\n",
    "            return s\n",
    "        else:\n",
    "            insert = (self.front+self.size)%len(self.data)\n",
    "            self.queue[insert] = element\n",
    "            self.size = self.size+1\n",
    "            \n",
    "    def is_full(self):\n",
    "        return len(self.stack)==self.max_length"
   ]
  },
  {
   "cell_type": "markdown",
   "metadata": {},
   "source": [
    "### Q4: Binary form from 1 to N"
   ]
  },
  {
   "cell_type": "code",
   "execution_count": null,
   "metadata": {},
   "outputs": [],
   "source": [
    "Binary = ArrayQueue(10)\n",
    "\n",
    "Binary.enqueue(\"1\")\n",
    "while(not(Binary.is_empty())):\n",
    "    Binray.dequeue()"
   ]
  }
 ],
 "metadata": {
  "kernelspec": {
   "display_name": "Python 3",
   "language": "python",
   "name": "python3"
  },
  "language_info": {
   "codemirror_mode": {
    "name": "ipython",
    "version": 3
   },
   "file_extension": ".py",
   "mimetype": "text/x-python",
   "name": "python",
   "nbconvert_exporter": "python",
   "pygments_lexer": "ipython3",
   "version": "3.7.6"
  }
 },
 "nbformat": 4,
 "nbformat_minor": 4
}
