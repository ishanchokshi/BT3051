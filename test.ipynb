{
 "cells": [
  {
   "cell_type": "code",
   "execution_count": 2,
   "metadata": {},
   "outputs": [],
   "source": [
    "ls = [1,2,3,4]"
   ]
  },
  {
   "cell_type": "code",
   "execution_count": 3,
   "metadata": {},
   "outputs": [
    {
     "name": "stdout",
     "output_type": "stream",
     "text": [
      "[2, 4, 6, 8]\n"
     ]
    }
   ],
   "source": [
    "l = [i*2 for i in ls]\n",
    "print(l)"
   ]
  },
  {
   "cell_type": "code",
   "execution_count": 10,
   "metadata": {},
   "outputs": [],
   "source": [
    "data = \"1,2,3,4,5,6\"\n",
    "new_data = data.split(\",\")"
   ]
  },
  {
   "cell_type": "code",
   "execution_count": 11,
   "metadata": {},
   "outputs": [],
   "source": [
    "test = [int(n) for n in data.split(\",\")]"
   ]
  },
  {
   "cell_type": "code",
   "execution_count": 12,
   "metadata": {},
   "outputs": [
    {
     "data": {
      "text/plain": [
       "[1, 2, 3, 4, 5, 6]"
      ]
     },
     "execution_count": 12,
     "metadata": {},
     "output_type": "execute_result"
    }
   ],
   "source": [
    "test"
   ]
  },
  {
   "cell_type": "code",
   "execution_count": 1,
   "metadata": {},
   "outputs": [
    {
     "name": "stdout",
     "output_type": "stream",
     "text": [
      "print(value, ..., sep=' ', end='\\n', file=sys.stdout, flush=False)\n",
      "\n",
      "Prints the values to a stream, or to sys.stdout by default.\n",
      "Optional keyword arguments:\n",
      "file:  a file-like object (stream); defaults to the current sys.stdout.\n",
      "sep:   string inserted between values, default a space.\n",
      "end:   string appended after the last value, default a newline.\n",
      "flush: whether to forcibly flush the stream.\n"
     ]
    }
   ],
   "source": [
    "print(print.__doc__)"
   ]
  },
  {
   "cell_type": "code",
   "execution_count": 2,
   "metadata": {},
   "outputs": [],
   "source": [
    "import math"
   ]
  },
  {
   "cell_type": "code",
   "execution_count": 3,
   "metadata": {},
   "outputs": [
    {
     "data": {
      "text/plain": [
       "11978571669969891796072783721689098736458938142546425857555362864628009582789845319680000000000000000"
      ]
     },
     "execution_count": 3,
     "metadata": {},
     "output_type": "execute_result"
    }
   ],
   "source": [
    "math.factorial(70)"
   ]
  },
  {
   "cell_type": "code",
   "execution_count": 4,
   "metadata": {},
   "outputs": [
    {
     "data": {
      "text/plain": [
       "1.1978571669969892e+100"
      ]
     },
     "execution_count": 4,
     "metadata": {},
     "output_type": "execute_result"
    }
   ],
   "source": [
    "float(math.factorial(70))"
   ]
  },
  {
   "cell_type": "code",
   "execution_count": 5,
   "metadata": {},
   "outputs": [
    {
     "data": {
      "text/plain": [
       "1.5"
      ]
     },
     "execution_count": 5,
     "metadata": {},
     "output_type": "execute_result"
    }
   ],
   "source": [
    "3/2"
   ]
  },
  {
   "cell_type": "code",
   "execution_count": 6,
   "metadata": {},
   "outputs": [
    {
     "data": {
      "text/plain": [
       "1"
      ]
     },
     "execution_count": 6,
     "metadata": {},
     "output_type": "execute_result"
    }
   ],
   "source": [
    "3//2"
   ]
  },
  {
   "cell_type": "code",
   "execution_count": 7,
   "metadata": {},
   "outputs": [
    {
     "data": {
      "text/plain": [
       "[0, 1, 2, 3, 4]"
      ]
     },
     "execution_count": 7,
     "metadata": {},
     "output_type": "execute_result"
    }
   ],
   "source": [
    "list(range(5))"
   ]
  },
  {
   "cell_type": "code",
   "execution_count": 8,
   "metadata": {},
   "outputs": [
    {
     "name": "stdout",
     "output_type": "stream",
     "text": [
      "You must work harder!\n",
      "None\n"
     ]
    }
   ],
   "source": [
    "def print_grades(score):\n",
    "    \"\"\" (int) --> NoneType\n",
    "    >>> print_grades(70)\n",
    "    You must work harder!\n",
    "    >>> print_grades(90)\n",
    "    S\n",
    "    >>> print_grades(85)\n",
    "    A\n",
    "    \"\"\"\n",
    "    if 85<score<=100:\n",
    "        print('S')\n",
    "    elif 75<score<=85:\n",
    "        print('A')\n",
    "    else:\n",
    "        print('You must work harder!')\n",
    "\n",
    "a = print_grades(75)\n",
    "print(a)"
   ]
  },
  {
   "cell_type": "code",
   "execution_count": 9,
   "metadata": {},
   "outputs": [
    {
     "name": "stdout",
     "output_type": "stream",
     "text": [
      "Help on function print_grades in module __main__:\n",
      "\n",
      "print_grades(score)\n",
      "    (int) --> NoneType\n",
      "    >>> print_grades(70)\n",
      "    You must work harder!\n",
      "    >>> print_grades(90)\n",
      "    S\n",
      "    >>> print_grades(85)\n",
      "    A\n",
      "\n"
     ]
    }
   ],
   "source": [
    "\n",
    "help(print_grades)"
   ]
  },
  {
   "cell_type": "code",
   "execution_count": 11,
   "metadata": {},
   "outputs": [
    {
     "name": "stdout",
     "output_type": "stream",
     "text": [
      "Trying:\n",
      "    print_grades(70)\n",
      "Expecting:\n",
      "    You must work harder!\n",
      "ok\n",
      "Trying:\n",
      "    print_grades(90)\n",
      "Expecting:\n",
      "    S\n",
      "ok\n",
      "Trying:\n",
      "    print_grades(85)\n",
      "Expecting:\n",
      "    A\n",
      "ok\n",
      "4 items had no tests:\n",
      "    __main__\n",
      "    __main__._VSCODE_getVariableInfo\n",
      "    __main__._VSCODE_getVariableProperties\n",
      "    __main__._VSCODE_getVariableTypes\n",
      "1 items passed all tests:\n",
      "   3 tests in __main__.print_grades\n",
      "3 tests in 5 items.\n",
      "3 passed and 0 failed.\n",
      "Test passed.\n"
     ]
    },
    {
     "data": {
      "text/plain": [
       "TestResults(failed=0, attempted=3)"
      ]
     },
     "execution_count": 11,
     "metadata": {},
     "output_type": "execute_result"
    }
   ],
   "source": [
    "import doctest\n",
    "doctest.testmod(verbose = True)\n"
   ]
  },
  {
   "cell_type": "code",
   "execution_count": 3,
   "metadata": {},
   "outputs": [],
   "source": [
    "a=5\n",
    "a = 10"
   ]
  },
  {
   "cell_type": "code",
   "execution_count": 4,
   "metadata": {},
   "outputs": [
    {
     "data": {
      "text/plain": [
       "10"
      ]
     },
     "execution_count": 4,
     "metadata": {},
     "output_type": "execute_result"
    }
   ],
   "source": [
    "a"
   ]
  },
  {
   "cell_type": "code",
   "execution_count": 19,
   "metadata": {},
   "outputs": [],
   "source": [
    "R = 10\n",
    "ls =  [(x,y) for x in range(-R,R+1) for y in range(-R,R+1) if x*x + y*y == R*R]"
   ]
  },
  {
   "cell_type": "code",
   "execution_count": 20,
   "metadata": {},
   "outputs": [
    {
     "data": {
      "text/plain": [
       "[(-10, 0),\n",
       " (-8, -6),\n",
       " (-8, 6),\n",
       " (-6, -8),\n",
       " (-6, 8),\n",
       " (0, -10),\n",
       " (0, 10),\n",
       " (6, -8),\n",
       " (6, 8),\n",
       " (8, -6),\n",
       " (8, 6),\n",
       " (10, 0)]"
      ]
     },
     "execution_count": 20,
     "metadata": {},
     "output_type": "execute_result"
    }
   ],
   "source": [
    "ls"
   ]
  },
  {
   "cell_type": "code",
   "execution_count": 16,
   "metadata": {},
   "outputs": [],
   "source": [
    "ls = [x for x in range(0,4)]"
   ]
  },
  {
   "cell_type": "code",
   "execution_count": 17,
   "metadata": {},
   "outputs": [
    {
     "data": {
      "text/plain": [
       "[0, 1, 2, 3]"
      ]
     },
     "execution_count": 17,
     "metadata": {},
     "output_type": "execute_result"
    }
   ],
   "source": [
    "ls"
   ]
  },
  {
   "cell_type": "code",
   "execution_count": 4,
   "metadata": {},
   "outputs": [
    {
     "name": "stdout",
     "output_type": "stream",
     "text": [
      "1 \n",
      "1 1 \n",
      "1 2 1 \n",
      "1 3 3 1 \n",
      "1 4 6 4 1 \n"
     ]
    }
   ],
   "source": [
    "# Print Pascal's Triangle in Python\n",
    "from math import factorial\n",
    " \n",
    "# input n\n",
    "n = 5\n",
    "for i in range(n):\n",
    "\n",
    " \n",
    "        # for left spacing\n",
    " \n",
    "    for j in range(i+1):\n",
    " \n",
    "        # nCr = n!/((n-r)!*r!)\n",
    "        print(factorial(i)//(factorial(j)*factorial(i-j)), end=\" \")\n",
    " \n",
    "    # for new line\n",
    "    print()"
   ]
  },
  {
   "cell_type": "code",
   "execution_count": 17,
   "metadata": {},
   "outputs": [
    {
     "name": "stdout",
     "output_type": "stream",
     "text": [
      "1  \n",
      "1  1  \n",
      "1  2  1  \n",
      "1  3  3  1  \n"
     ]
    }
   ],
   "source": [
    "# Print Pascal's Triangle in Python\n",
    "from math import factorial\n",
    " \n",
    "# input n\n",
    "n = 4\n",
    "for i in range(n):\n",
    "    for j in range(i+1):\n",
    " \n",
    "        # nCr = n!/((n-r)!*r!)\n",
    "        print(factorial(i)//(factorial(j)*factorial(i-j)), \" \", end = \"\")\n",
    " \n",
    "    # for new line\n",
    "    print()"
   ]
  },
  {
   "cell_type": "code",
   "execution_count": 90,
   "metadata": {},
   "outputs": [
    {
     "name": "stdout",
     "output_type": "stream",
     "text": [
      "1\n",
      "1  1  \n",
      "1  2  1  \n",
      "1  3  3  1  \n",
      "1  4  6  4  1  \n",
      "1  5  10  10  5  1  \n",
      "1  6  15  20  15  6  1  \n",
      "1  7  21  35  35  21  7  1  \n",
      "1  8  28  56  70  56  28  8  1  \n",
      "1  9  36  84  126  126  84  36  9  1  \n"
     ]
    }
   ],
   "source": [
    "# For n>1, the formula for each element in line 'n' in Pascal's triangle is (n-1)Cr where 0 <= r <= n-1\n",
    "from math import factorial\n",
    "print(1) #printing the first row\n",
    "for i in range(1,n):\n",
    "    for j in range(0,i+1): # So the inner loop runs till j = i\n",
    "        print(factorial(i)//(factorial(j)*factorial(i-j)), \" \", end = \"\") #For integer division, we put '//'\n",
    "    print() # Go to the next line"
   ]
  },
  {
   "cell_type": "code",
   "execution_count": 13,
   "metadata": {},
   "outputs": [
    {
     "name": "stdout",
     "output_type": "stream",
     "text": [
      "The prime factors of  999999  are: 3 7 11 13 37 Time taken : 0.6263778209686279\n"
     ]
    }
   ],
   "source": [
    "import time\n",
    "start = time.time()\n",
    "n = 999999\n",
    "ls = [i for i in range(2,n+1) if n%i==0]\n",
    "print(\"The prime factors of \", n, \" are:\", end = \" \")\n",
    "for j in ls:\n",
    "    prime_check = [k for k in range(2,j) if j%k==0]\n",
    "    if(len(prime_check)==0):\n",
    "        print(j, end = \" \")\n",
    "end = time.time()\n",
    "print(\"Time taken :\", (end-start))"
   ]
  },
  {
   "cell_type": "code",
   "execution_count": 65,
   "metadata": {},
   "outputs": [
    {
     "name": "stdout",
     "output_type": "stream",
     "text": [
      "The prime factors of  78  are: 2 3 13 "
     ]
    }
   ],
   "source": [
    "\n",
    "        "
   ]
  },
  {
   "cell_type": "code",
   "execution_count": 44,
   "metadata": {},
   "outputs": [
    {
     "data": {
      "text/plain": [
       "'t h i s i s f u n'"
      ]
     },
     "execution_count": 44,
     "metadata": {},
     "output_type": "execute_result"
    }
   ],
   "source": [
    "s =  \"ymnx nx kzs\"\n",
    "n = -5\n",
    "characters = [i for i in s if i!= ' ']\n",
    "characters\n",
    "new_characters = [chr(ord(j)-5) for j in characters]\n",
    "new_characters\n",
    "s1 = ' '.join([str(elem) for elem in new_characters])\n",
    "s1"
   ]
  },
  {
   "cell_type": "code",
   "execution_count": 45,
   "metadata": {},
   "outputs": [],
   "source": [
    "s2 = \"Ishan\"\n",
    "s3 = \"Ishika\""
   ]
  },
  {
   "cell_type": "code",
   "execution_count": 49,
   "metadata": {},
   "outputs": [
    {
     "data": {
      "text/plain": [
       "'Ishan Ishika'"
      ]
     },
     "execution_count": 49,
     "metadata": {},
     "output_type": "execute_result"
    }
   ],
   "source": [
    "s2+ \" \" + s3"
   ]
  },
  {
   "cell_type": "code",
   "execution_count": 54,
   "metadata": {},
   "outputs": [],
   "source": [
    "s =  \"ymnx nx kzs\"\n",
    "n = -5\n",
    "# characters = [chr(ord(j)-5) for j in s if i!= ' ' ,else chr(ord(j))]\n",
    "characters = [chr(ord(j)-5) if j is not ' ' else chr(ord(j)) for j in s]"
   ]
  },
  {
   "cell_type": "code",
   "execution_count": 55,
   "metadata": {},
   "outputs": [
    {
     "data": {
      "text/plain": [
       "['t', 'h', 'i', 's', ' ', 'i', 's', ' ', 'f', 'u', 'n']"
      ]
     },
     "execution_count": 55,
     "metadata": {},
     "output_type": "execute_result"
    }
   ],
   "source": [
    "characters"
   ]
  },
  {
   "cell_type": "code",
   "execution_count": 58,
   "metadata": {},
   "outputs": [],
   "source": [
    "new_cha = ''.join(str(elements) for elements in characters)"
   ]
  },
  {
   "cell_type": "code",
   "execution_count": 59,
   "metadata": {},
   "outputs": [
    {
     "data": {
      "text/plain": [
       "'this is fun'"
      ]
     },
     "execution_count": 59,
     "metadata": {},
     "output_type": "execute_result"
    }
   ],
   "source": [
    "new_cha"
   ]
  },
  {
   "cell_type": "code",
   "execution_count": 62,
   "metadata": {},
   "outputs": [
    {
     "name": "stdout",
     "output_type": "stream",
     "text": [
      "this is fun"
     ]
    }
   ],
   "source": [
    " for i in s:\n",
    "        if(i == ' '):\n",
    "            print(i, end = '')\n",
    "        else:\n",
    "            print(chr(ord(i)-5), end = \"\")"
   ]
  },
  {
   "cell_type": "code",
   "execution_count": 6,
   "metadata": {},
   "outputs": [
    {
     "name": "stdout",
     "output_type": "stream",
     "text": [
      "Enter a number: 69\n",
      "[3, 23]\n"
     ]
    }
   ],
   "source": [
    "def prime_factors(number):\n",
    "    factors = [i for i in range(2,number+1) if number%i==0]\n",
    "    prime_factors = []\n",
    "    for j in factors:\n",
    "        prime_check = [k for k in range(2,j) if j%k==0]\n",
    "        if(len(prime_check)==0):\n",
    "            prime_factors.append(j)\n",
    "    return list(prime_factors)\n",
    "\n",
    "if __name__ == \"__main__\":\n",
    "    num = int(input(\"Enter a number: \"))\n",
    "    if(num>=1000000):\n",
    "        print(\"Please enter a number less than 10,00,000!\")\n",
    "    else:\n",
    "        factors = prime_factors(num)\n",
    "        print(factors)"
   ]
  },
  {
   "cell_type": "code",
   "execution_count": null,
   "metadata": {},
   "outputs": [],
   "source": []
  },
  {
   "cell_type": "code",
   "execution_count": 75,
   "metadata": {},
   "outputs": [
    {
     "name": "stdout",
     "output_type": "stream",
     "text": [
      "ymnx nx kzs\n"
     ]
    }
   ],
   "source": [
    "fin = open(\"q5_test.txt\")\n",
    "data = fin.read().splitlines()\n",
    "fin.close()\n",
    "data[1] = int(data[1])\n",
    "print(data[0])"
   ]
  },
  {
   "cell_type": "code",
   "execution_count": 82,
   "metadata": {},
   "outputs": [
    {
     "name": "stdout",
     "output_type": "stream",
     "text": [
      "~rs} s} px"
     ]
    }
   ],
   "source": [
    "def decoder(encoded, n):\n",
    "    \"\"\"\n",
    "    Add your code here.\n",
    "    Remember to return the final answer.\n",
    "    \"\"\"\n",
    "    for i in encoded:\n",
    "        if(i == ' '):\n",
    "            print(i, end = \"\")\n",
    "        else:\n",
    "            print(chr(ord(i)-n), end = \"\")\n",
    "\n",
    "if __name__ == \"__main__\":\n",
    "    fin = open(\"q5_test.txt\")\n",
    "    data = fin.read().splitlines()\n",
    "    fin.close()\n",
    "\n",
    "    data[1] = int(data[1])\n",
    "    text, n = data\n",
    "    decoder(data[0], data[1])"
   ]
  },
  {
   "cell_type": "code",
   "execution_count": 88,
   "metadata": {},
   "outputs": [
    {
     "name": "stdout",
     "output_type": "stream",
     "text": [
      "this is fun"
     ]
    }
   ],
   "source": [
    "def decoder(encoded, n):\n",
    "    \"\"\"\n",
    "    Add your code here.\n",
    "    Remember to return the final answer.\n",
    "    \"\"\"\n",
    "    for i in encoded:\n",
    "        if(i == ' '):\n",
    "            print(i, end = \"\")\n",
    "        else:\n",
    "            print(chr(ord(i)+n), end = \"\")\n",
    "\n",
    "if __name__ == \"__main__\":\n",
    "    fin = open(\"q5_test.txt\")\n",
    "    data = fin.read().splitlines()\n",
    "    fin.close()\n",
    "\n",
    "    data[1] = int(data[1])\n",
    "    text, n = data\n",
    "    decoder(data[0], data[1])"
   ]
  },
  {
   "cell_type": "code",
   "execution_count": 86,
   "metadata": {},
   "outputs": [
    {
     "name": "stdout",
     "output_type": "stream",
     "text": [
      "121 109 110 120 32 110 120 32 107 122 115 "
     ]
    }
   ],
   "source": [
    "def decoder(encoded, n):\n",
    "    \"\"\"\n",
    "    Add your code here.\n",
    "    Remember to return the final answer.\n",
    "    \"\"\"\n",
    "    for i in encoded:\n",
    "        print(ord(i), end = ' ')\n",
    "\n",
    "if __name__ == \"__main__\":\n",
    "    fin = open(\"q5_test.txt\")\n",
    "    data = fin.read().splitlines()\n",
    "    fin.close()\n",
    "\n",
    "    data[1] = int(data[1])\n",
    "    text, n = data\n",
    "    decoder(data[0], data[1])"
   ]
  },
  {
   "cell_type": "code",
   "execution_count": null,
   "metadata": {},
   "outputs": [],
   "source": [
    "# For n>1, the formula for each element in line 'n' in Pascal's triangle is (n-1)Cr where 0 <= r <= n-1\n",
    "from math import factorial\n",
    "print(1) #printing the first row\n",
    "for i in range(1,n):\n",
    "    for j in range(0,i+1): # So the inner loop runs till j = i\n",
    "        print(factorial(i)//(factorial(j)*factorial(i-j)), \" \", end = \"\") #For integer division, we put '//'\n",
    "    print() # Go to the next line"
   ]
  },
  {
   "cell_type": "code",
   "execution_count": 92,
   "metadata": {},
   "outputs": [
    {
     "name": "stdout",
     "output_type": "stream",
     "text": [
      "1\n",
      "1  1  \n",
      "1  2  1  \n",
      "1  3  3  1  \n",
      "1  4  6  4  1  \n",
      "1  5  10  10  5  1  \n",
      "1  6  15  20  15  6  1  \n",
      "1  7  21  35  35  21  7  1  \n",
      "1  8  28  56  70  56  28  8  1  \n",
      "1  9  36  84  126  126  84  36  9  1  \n"
     ]
    }
   ],
   "source": [
    "def pascals_triangle(n):\n",
    "    \"\"\"\n",
    "    Write your code here.\n",
    "    Remember to return the values.\n",
    "    \"\"\"\n",
    "    # For n>1, the formula for each element in line 'n' in Pascal's triangle is (n-1)Cr where 0 <= r <= n-1\n",
    "    from math import factorial\n",
    "    print(1) #printing the first row\n",
    "    for i in range(1,n):\n",
    "        for j in range(0,i+1): # So the inner loop runs till j = i\n",
    "            print(factorial(i)//(factorial(j)*factorial(i-j)), \" \", end = \"\") #For integer division, we put '//'\n",
    "        print() # Go to the next line\n",
    "\n",
    "if __name__ == \"__main__\":\n",
    "    fin = open(\"q3_test.txt\")\n",
    "    n = int(fin.read().splitlines()[0])\n",
    "    fin.close()\n",
    "\n",
    "    # Add your code here\n",
    "    pascals_triangle(n)"
   ]
  },
  {
   "cell_type": "code",
   "execution_count": 103,
   "metadata": {},
   "outputs": [
    {
     "name": "stdout",
     "output_type": "stream",
     "text": [
      "1\n",
      "1  1  \n",
      "1  2  1  \n",
      "1  3  3  1  \n",
      "1  4  6  4  1  \n",
      "1  5  10  10  5  1  \n",
      "1  6  15  20  15  6  1  \n",
      "1  7  21  35  35  21  7  1  \n",
      "1  8  28  56  70  56  28  8  1  \n",
      "1  9  36  84  126  126  84  36  9  1  \n"
     ]
    }
   ],
   "source": [
    "import numpy as np\n",
    "\n",
    "    \n",
    "def fact(i):\n",
    "    product = np.prod(([i for i in range(1,i+1)]))\n",
    "    return int(product)\n",
    "\n",
    "def pascals_triangle(n):\n",
    "    \"\"\"\n",
    "    Write your code here.\n",
    "    Remember to return the values.\n",
    "    \"\"\"\n",
    "    # For n>1, the formula for each element in line 'n' in Pascal's triangle is (n-1)Cr where 0 <= r <= n-1\n",
    "    print(1) #printing the first row\n",
    "    for i in range(1,n):\n",
    "        for j in range(0,i+1): # So the inner loop runs till j = i\n",
    "            print(fact(i)//(fact(j)*fact(i-j)), \" \", end = \"\") #For integer division, we put '//'\n",
    "        print() # Go to the next line\n",
    "    \n",
    "\n",
    "if __name__ == \"__main__\":\n",
    "    fin = open(\"q3_test.txt\")\n",
    "    n = int(fin.read().splitlines()[0])\n",
    "    fin.close()\n",
    "\n",
    "    # Add your code here\n",
    "    pascals_triangle(n)"
   ]
  },
  {
   "cell_type": "code",
   "execution_count": 29,
   "metadata": {},
   "outputs": [
    {
     "name": "stdout",
     "output_type": "stream",
     "text": [
      "1\n",
      "1  1  \n",
      "1  2  1  \n",
      "1  3  3  1  \n",
      "1  4  6  4  1  \n",
      "1  5  10  10  5  1  \n",
      "1  6  15  20  15  6  1  \n",
      "1  7  21  35  35  21  7  1  \n",
      "1  8  28  56  70  56  28  8  1  \n",
      "1  9  36  84  126  126  84  36  9  1  \n",
      "\n",
      " 0.007740497589111328\n"
     ]
    }
   ],
   "source": [
    "import time\n",
    "import numpy as np\n",
    "start = time.time()\n",
    "n = 11\n",
    "  \n",
    "\n",
    "\n",
    "def pascals_triangle(n):\n",
    "    \"\"\"\n",
    "    Write your code here.\n",
    "    Remember to return the values.\n",
    "    \"\"\"\n",
    "    # For n>1, the formula for each element in line 'n' in Pascal's triangle is (n-1)Cr where 0 <= r <= n-1\n",
    "    from math import factorial\n",
    "    print(1) #printing the first row\n",
    "    for i in range(1,n):\n",
    "        for j in range(0,i+1): # So the inner loop runs till j = i\n",
    "            print(np.math.factorial(i)//(np.math.factorial(j)*np.math.factorial(i-j)), \" \", end = \"\") #For integer division, we put '//'\n",
    "        print() # Go to the next line\n",
    "\n",
    "def fact(i):\n",
    "    product = np.prod(([i for i in range(1,i+1)]))\n",
    "    return int(product) \n",
    "\n",
    "if __name__ == \"__main__\":\n",
    "    fin = open(\"q3_test.txt\")\n",
    "    n = int(fin.read().splitlines()[0])\n",
    "    fin.close()\n",
    "\n",
    "    # Add your code here\n",
    "start = time.time()\n",
    "a = pascals_triangle(n)\n",
    "end = time.time()\n",
    "print(\"\\n\", end-start)"
   ]
  },
  {
   "cell_type": "code",
   "execution_count": 12,
   "metadata": {},
   "outputs": [
    {
     "name": "stdout",
     "output_type": "stream",
     "text": [
      "this is fun\n",
      "Time:  0.004984378814697266\n"
     ]
    }
   ],
   "source": [
    "def decoder(encoded, n):\n",
    "    \"\"\"\n",
    "    Add your code here.\n",
    "    Remember to return the final answer.\n",
    "    \"\"\"\n",
    "    decode_text = lambda encoded,n: (ord(encoded[i]+n))\n",
    "    for i in encoded:\n",
    "        decode_upper = lambda i,shift: (chr((ord(i) + shift - 65)% 26 + 65))\n",
    "        decode_lower = lambda i,shift: (chr((ord(i) + shift - 97)% 26 + 97))\n",
    "        \n",
    "        if(ord(i)>=65 and ord(i)<=90):\n",
    "            print(decode_upper(i,n), end = \"\")\n",
    "        elif(ord(i)>=97 and ord(i)<=122):\n",
    "            print(decode_lower(i,n), end = \"\")\n",
    "        else:\n",
    "            print(i, end =\"\")\n",
    "\n",
    "if __name__ == \"__main__\":\n",
    "    fin = open(\"q5_test.txt\")\n",
    "    data = fin.read().splitlines()\n",
    "    fin.close()\n",
    "\n",
    "    data[1] = int(data[1])\n",
    "    text, n = data\n",
    "    decoder(data[0], data[1])"
   ]
  },
  {
   "cell_type": "code",
   "execution_count": 23,
   "metadata": {},
   "outputs": [
    {
     "name": "stdout",
     "output_type": "stream",
     "text": [
      "this is fun\n",
      "Time:  0.002991914749145508\n"
     ]
    }
   ],
   "source": [
    "import time as time\n",
    "\n",
    "def decoder(encoded, n):\n",
    "    \"\"\"\n",
    "    Add your code here.\n",
    "    Remember to return the final answer.\n",
    "    \"\"\"\n",
    "    for i in encoded:\n",
    "        if(i == ' '):\n",
    "            print(i, end = \"\")\n",
    "        elif(i.isupper()):\n",
    "            print(chr((ord(i) + n - 65)% 26 + 65), end = '') # To enusre the decrypter is cyclic, we have to ensure that the extreme letters don't get converted to special characters\n",
    "        else:\n",
    "            print(chr((ord(i) + n - 97)% 26 + 97), end = '')\n",
    "\n",
    "if __name__ == \"__main__\":\n",
    "    fin = open(\"q5_test.txt\")\n",
    "    data = fin.read().splitlines()\n",
    "    fin.close()\n",
    "\n",
    "    data[1] = int(data[1])\n",
    "    text, n = data\n",
    "    start = time.time()\n",
    "    decoder(data[0], data[1])\n",
    "end = time.time()\n",
    "print(\"\\nTime: \", (end-start))"
   ]
  },
  {
   "cell_type": "code",
   "execution_count": 24,
   "metadata": {},
   "outputs": [
    {
     "ename": "SyntaxError",
     "evalue": "invalid syntax (<ipython-input-24-50f3ae09c1b4>, line 10)",
     "output_type": "error",
     "traceback": [
      "\u001b[1;36m  File \u001b[1;32m\"<ipython-input-24-50f3ae09c1b4>\"\u001b[1;36m, line \u001b[1;32m10\u001b[0m\n\u001b[1;33m    decoded = lambda i,shift: ( chr((ord(i) + shift - 65)% 26 + 65) if i.isupper() chr((ord(i) + shift - 97)% 26 + 97))\u001b[0m\n\u001b[1;37m                                                                                     ^\u001b[0m\n\u001b[1;31mSyntaxError\u001b[0m\u001b[1;31m:\u001b[0m invalid syntax\n"
     ]
    }
   ],
   "source": [
    "def decoder(encoded, n):\n",
    "    \"\"\"\n",
    "    Add your code here.\n",
    "    Remember to return the final answer.\n",
    "    \"\"\"\n",
    "    decode_text = lambda encoded,n: (ord(encoded[i]+n))\n",
    "    for i in encoded:\n",
    "#         decode_upper = lambda i,shift: (chr((ord(i) + shift - 65)% 26 + 65))\n",
    "#         decode_lower = lambda i,shift: (chr((ord(i) + shift - 97)% 26 + 97))\n",
    "        decoded = lambda i,shift: ( chr((ord(i) + shift - 65)% 26 + 65) if i.isupper() chr((ord(i) + shift - 97)% 26 + 97))\n",
    "        \n",
    "        if(i == \" \"):\n",
    "            print(i, end = \"\")\n",
    "        else:\n",
    "            print(decoded)\n",
    "\n",
    "if __name__ == \"__main__\":\n",
    "    fin = open(\"q5_test.txt\")\n",
    "    data = fin.read().splitlines()\n",
    "    fin.close()\n",
    "\n",
    "    data[1] = int(data[1])\n",
    "    text, n = data\n",
    "    decoder(data[0], data[1])\n"
   ]
  },
  {
   "cell_type": "code",
   "execution_count": 3,
   "metadata": {},
   "outputs": [],
   "source": [
    "#!/usr/bin/env python\n",
    "# coding: utf-8\n",
    "\n",
    "# In[63]:\n",
    "\n",
    "\n",
    "# Allowed libraries: numpy\n",
    "import numpy as np\n",
    "\n",
    "def pascals_triangle(n):\n",
    "    \"\"\"\n",
    "    Write your code here.\n",
    "    Remember to return the values.\n",
    "    \"\"\"\n",
    "    triangle = np.zeros((n,n))\n",
    "    for i in range(n):\n",
    "        triangle[i][0] = 1\n",
    "        triangle[i][i] = 1\n",
    "        if i>1:\n",
    "            for j in range(1,i):\n",
    "                triangle[i][j] = triangle[i-1][j] + triangle[i-1][j-1]\n",
    "    \n",
    "    for i in range(n):\n",
    "        for j in range(i+1):\n",
    "            print(int(triangle[i][j]), end = ' ')\n",
    "        print(\"\\n\")    \n",
    "    \n",
    "    \n",
    "        \n",
    "\n",
    "if __name__ == \"_main_\":\n",
    "    fin = open(\"q3_test.txt\")\n",
    "    n = int(fin.read().splitlines()[0])\n",
    "    fin.close()\n",
    "\n",
    "    n = int(input(\"Enter a number : \"))\n",
    "\n",
    "    # Add your code here\n",
    "    pascals_triangle(n)\n",
    "\n",
    "\n",
    "# In[ ]:\n",
    "\n",
    "\n",
    "\n",
    "\n",
    "\n",
    "# In[ ]:\n",
    "\n",
    "\n",
    "\n",
    "\n",
    "\n",
    "# In[ ]:\n",
    "\n",
    "\n",
    "\n",
    "\n",
    "\n",
    "# %%\n"
   ]
  },
  {
   "cell_type": "code",
   "execution_count": 27,
   "metadata": {},
   "outputs": [
    {
     "name": "stdout",
     "output_type": "stream",
     "text": [
      "this is fun\n",
      " 0.0009982585906982422\n"
     ]
    }
   ],
   "source": [
    "def decoder(encoded, n):\n",
    "    \"\"\"\n",
    "    Add your code here.\n",
    "    Remember to return the final answer.\n",
    "    \"\"\"\n",
    "    for i in encoded:\n",
    "        decode_upper = lambda i,shift: (chr((ord(i) + shift - 65)% 26 + 65))\n",
    "        decode_lower = lambda i,shift: (chr((ord(i) + shift - 97)% 26 + 97))\n",
    "        \n",
    "        if(ord(i)>=65 and ord(i)<=90):\n",
    "            print(decode_upper(i,n), end = \"\")\n",
    "        elif(ord(i)>=97 and ord(i)<=122):\n",
    "            print(decode_lower(i,n), end = \"\")\n",
    "        else:\n",
    "            print(i, end =\"\")\n",
    "\n",
    "if __name__ == \"__main__\":\n",
    "    fin = open(\"q5_test.txt\")\n",
    "    data = fin.read().splitlines()\n",
    "    fin.close()\n",
    "\n",
    "    data[1] = int(data[1])\n",
    "    text, n = data\n",
    "    import time as time\n",
    "    start = time.time()\n",
    "    decoder(data[0], data[1])\n",
    "    end = time.time()\n",
    "    print(\"\\n\",end-start)"
   ]
  },
  {
   "cell_type": "code",
   "execution_count": 16,
   "metadata": {},
   "outputs": [
    {
     "name": "stdout",
     "output_type": "stream",
     "text": [
      "1\n"
     ]
    },
    {
     "ename": "TypeError",
     "evalue": "'range' object does not support item assignment",
     "output_type": "error",
     "traceback": [
      "\u001b[1;31m---------------------------------------------------------------------------\u001b[0m",
      "\u001b[1;31mTypeError\u001b[0m                                 Traceback (most recent call last)",
      "\u001b[1;32m<ipython-input-16-b820a78edc02>\u001b[0m in \u001b[0;36m<module>\u001b[1;34m\u001b[0m\n\u001b[0;32m      1\u001b[0m \u001b[0ma\u001b[0m \u001b[1;33m=\u001b[0m \u001b[0mrange\u001b[0m\u001b[1;33m(\u001b[0m\u001b[1;36m1\u001b[0m\u001b[1;33m,\u001b[0m\u001b[1;36m9\u001b[0m\u001b[1;33m)\u001b[0m\u001b[1;33m\u001b[0m\u001b[1;33m\u001b[0m\u001b[0m\n\u001b[0;32m      2\u001b[0m \u001b[0mprint\u001b[0m\u001b[1;33m(\u001b[0m\u001b[0ma\u001b[0m\u001b[1;33m[\u001b[0m\u001b[1;36m0\u001b[0m\u001b[1;33m]\u001b[0m\u001b[1;33m)\u001b[0m\u001b[1;33m\u001b[0m\u001b[1;33m\u001b[0m\u001b[0m\n\u001b[1;32m----> 3\u001b[1;33m \u001b[0ma\u001b[0m\u001b[1;33m[\u001b[0m\u001b[1;36m0\u001b[0m\u001b[1;33m]\u001b[0m \u001b[1;33m=\u001b[0m \u001b[1;36m3\u001b[0m\u001b[1;33m\u001b[0m\u001b[1;33m\u001b[0m\u001b[0m\n\u001b[0m",
      "\u001b[1;31mTypeError\u001b[0m: 'range' object does not support item assignment"
     ]
    }
   ],
   "source": [
    "a = range(1,9)\n",
    "print(a[0])\n",
    "a[0] = 3"
   ]
  },
  {
   "cell_type": "code",
   "execution_count": 1,
   "metadata": {},
   "outputs": [],
   "source": [
    "def reverse(string):\n",
    "    if len(string) == 0:\n",
    "        return\n",
    "     \n",
    "    temp = string[0]\n",
    "    reverse(string[1:])\n",
    "    print(temp, end='')"
   ]
  },
  {
   "cell_type": "code",
   "execution_count": 2,
   "metadata": {},
   "outputs": [
    {
     "name": "stdout",
     "output_type": "stream",
     "text": [
      "nahsi"
     ]
    }
   ],
   "source": [
    "reverse('ishan')"
   ]
  },
  {
   "cell_type": "code",
   "execution_count": 1,
   "metadata": {},
   "outputs": [],
   "source": [
    "a = list(range(10))"
   ]
  },
  {
   "cell_type": "code",
   "execution_count": 2,
   "metadata": {},
   "outputs": [
    {
     "data": {
      "text/plain": [
       "[0, 1, 2, 3, 4, 5, 6, 7, 8]"
      ]
     },
     "execution_count": 2,
     "metadata": {},
     "output_type": "execute_result"
    }
   ],
   "source": [
    "a[:-1]"
   ]
  },
  {
   "cell_type": "code",
   "execution_count": 3,
   "metadata": {},
   "outputs": [
    {
     "data": {
      "text/plain": [
       "9"
      ]
     },
     "execution_count": 3,
     "metadata": {},
     "output_type": "execute_result"
    }
   ],
   "source": [
    "a[-1]"
   ]
  },
  {
   "cell_type": "code",
   "execution_count": 7,
   "metadata": {},
   "outputs": [
    {
     "data": {
      "text/plain": [
       "[0, 1, 2, 3, 4]"
      ]
     },
     "execution_count": 7,
     "metadata": {},
     "output_type": "execute_result"
    }
   ],
   "source": [
    "a[:-5]"
   ]
  },
  {
   "cell_type": "code",
   "execution_count": 8,
   "metadata": {},
   "outputs": [
    {
     "data": {
      "text/plain": [
       "[0, 2, 4, 6, 8]"
      ]
     },
     "execution_count": 8,
     "metadata": {},
     "output_type": "execute_result"
    }
   ],
   "source": [
    "a[:-1:2]"
   ]
  },
  {
   "cell_type": "code",
   "execution_count": 2,
   "metadata": {},
   "outputs": [
    {
     "name": "stdout",
     "output_type": "stream",
     "text": [
      "678\n",
      "876\n"
     ]
    }
   ],
   "source": [
    "n = int(input())\n",
    "\n",
    "reverse = 0\n",
    "while(n>0):\n",
    "    rem = n%10\n",
    "    reverse = reverse*10+rem\n",
    "    n = n//10\n",
    "print(reverse)"
   ]
  },
  {
   "cell_type": "code",
   "execution_count": 54,
   "metadata": {},
   "outputs": [],
   "source": [
    "def get_name(input_name):\n",
    "    print(input_name)\n",
    "    return 0"
   ]
  },
  {
   "cell_type": "code",
   "execution_count": 55,
   "metadata": {},
   "outputs": [
    {
     "name": "stdout",
     "output_type": "stream",
     "text": [
      "Ishan\n"
     ]
    }
   ],
   "source": [
    "name = get_name('Ishan')"
   ]
  },
  {
   "cell_type": "code",
   "execution_count": 56,
   "metadata": {},
   "outputs": [
    {
     "name": "stdout",
     "output_type": "stream",
     "text": [
      "0\n"
     ]
    }
   ],
   "source": [
    "print(name)"
   ]
  },
  {
   "cell_type": "code",
   "execution_count": 18,
   "metadata": {},
   "outputs": [],
   "source": [
    "x = 1"
   ]
  },
  {
   "cell_type": "code",
   "execution_count": 19,
   "metadata": {},
   "outputs": [
    {
     "data": {
      "text/plain": [
       "1"
      ]
     },
     "execution_count": 19,
     "metadata": {},
     "output_type": "execute_result"
    }
   ],
   "source": [
    "y = x + 3\n",
    "x"
   ]
  },
  {
   "cell_type": "code",
   "execution_count": 20,
   "metadata": {},
   "outputs": [
    {
     "data": {
      "text/plain": [
       "[1]"
      ]
     },
     "execution_count": 20,
     "metadata": {},
     "output_type": "execute_result"
    }
   ],
   "source": [
    "x = [1]\n",
    "x"
   ]
  },
  {
   "cell_type": "code",
   "execution_count": 24,
   "metadata": {},
   "outputs": [],
   "source": [
    "x = x + [2]"
   ]
  },
  {
   "cell_type": "code",
   "execution_count": 25,
   "metadata": {},
   "outputs": [
    {
     "data": {
      "text/plain": [
       "[1, 2, 2, 2]"
      ]
     },
     "execution_count": 25,
     "metadata": {},
     "output_type": "execute_result"
    }
   ],
   "source": [
    "x"
   ]
  },
  {
   "cell_type": "code",
   "execution_count": 26,
   "metadata": {},
   "outputs": [],
   "source": [
    "x = [1]"
   ]
  },
  {
   "cell_type": "code",
   "execution_count": 27,
   "metadata": {},
   "outputs": [
    {
     "ename": "SyntaxError",
     "evalue": "invalid syntax (<ipython-input-27-8fce680bc40c>, line 1)",
     "output_type": "error",
     "traceback": [
      "\u001b[1;36m  File \u001b[1;32m\"<ipython-input-27-8fce680bc40c>\"\u001b[1;36m, line \u001b[1;32m1\u001b[0m\n\u001b[1;33m    x+ = [2]\u001b[0m\n\u001b[1;37m       ^\u001b[0m\n\u001b[1;31mSyntaxError\u001b[0m\u001b[1;31m:\u001b[0m invalid syntax\n"
     ]
    }
   ],
   "source": [
    "x+ = [2]"
   ]
  },
  {
   "cell_type": "code",
   "execution_count": 28,
   "metadata": {},
   "outputs": [
    {
     "data": {
      "text/plain": [
       "[1]"
      ]
     },
     "execution_count": 28,
     "metadata": {},
     "output_type": "execute_result"
    }
   ],
   "source": [
    "x"
   ]
  },
  {
   "cell_type": "code",
   "execution_count": 29,
   "metadata": {},
   "outputs": [],
   "source": [
    "x = x + [2]"
   ]
  },
  {
   "cell_type": "code",
   "execution_count": 30,
   "metadata": {},
   "outputs": [
    {
     "data": {
      "text/plain": [
       "[1, 2]"
      ]
     },
     "execution_count": 30,
     "metadata": {},
     "output_type": "execute_result"
    }
   ],
   "source": [
    "x"
   ]
  },
  {
   "cell_type": "code",
   "execution_count": 31,
   "metadata": {},
   "outputs": [
    {
     "data": {
      "text/plain": [
       "7"
      ]
     },
     "execution_count": 31,
     "metadata": {},
     "output_type": "execute_result"
    }
   ],
   "source": [
    "(3)+(4)"
   ]
  },
  {
   "cell_type": "code",
   "execution_count": 32,
   "metadata": {},
   "outputs": [
    {
     "ename": "TypeError",
     "evalue": "can only concatenate tuple (not \"int\") to tuple",
     "output_type": "error",
     "traceback": [
      "\u001b[1;31m---------------------------------------------------------------------------\u001b[0m",
      "\u001b[1;31mTypeError\u001b[0m                                 Traceback (most recent call last)",
      "\u001b[1;32m<ipython-input-32-4bd5be4eb6b1>\u001b[0m in \u001b[0;36m<module>\u001b[1;34m\u001b[0m\n\u001b[1;32m----> 1\u001b[1;33m \u001b[1;33m(\u001b[0m\u001b[1;36m4\u001b[0m\u001b[1;33m,\u001b[0m\u001b[1;36m1\u001b[0m\u001b[1;33m)\u001b[0m \u001b[1;33m+\u001b[0m \u001b[1;33m(\u001b[0m\u001b[1;36m3\u001b[0m\u001b[1;33m)\u001b[0m\u001b[1;33m\u001b[0m\u001b[1;33m\u001b[0m\u001b[0m\n\u001b[0m",
      "\u001b[1;31mTypeError\u001b[0m: can only concatenate tuple (not \"int\") to tuple"
     ]
    }
   ],
   "source": [
    "(4,1) + (3)"
   ]
  },
  {
   "cell_type": "code",
   "execution_count": 33,
   "metadata": {},
   "outputs": [
    {
     "data": {
      "text/plain": [
       "[4, 1, 3]"
      ]
     },
     "execution_count": 33,
     "metadata": {},
     "output_type": "execute_result"
    }
   ],
   "source": [
    "[4,1]+[3]"
   ]
  },
  {
   "cell_type": "code",
   "execution_count": 34,
   "metadata": {},
   "outputs": [
    {
     "data": {
      "text/plain": [
       "40"
      ]
     },
     "execution_count": 34,
     "metadata": {},
     "output_type": "execute_result"
    }
   ],
   "source": [
    "(4)*10"
   ]
  },
  {
   "cell_type": "code",
   "execution_count": 35,
   "metadata": {},
   "outputs": [],
   "source": [
    "import math"
   ]
  },
  {
   "cell_type": "code",
   "execution_count": 36,
   "metadata": {},
   "outputs": [
    {
     "ename": "NameError",
     "evalue": "name 'pi' is not defined",
     "output_type": "error",
     "traceback": [
      "\u001b[1;31m---------------------------------------------------------------------------\u001b[0m",
      "\u001b[1;31mNameError\u001b[0m                                 Traceback (most recent call last)",
      "\u001b[1;32m<ipython-input-36-5498e165c9ad>\u001b[0m in \u001b[0;36m<module>\u001b[1;34m\u001b[0m\n\u001b[1;32m----> 1\u001b[1;33m \u001b[0mmath\u001b[0m\u001b[1;33m.\u001b[0m\u001b[0mceil\u001b[0m\u001b[1;33m(\u001b[0m\u001b[0mpi\u001b[0m\u001b[1;33m**\u001b[0m\u001b[1;36m2\u001b[0m\u001b[1;33m)\u001b[0m\u001b[1;33m\u001b[0m\u001b[1;33m\u001b[0m\u001b[0m\n\u001b[0m",
      "\u001b[1;31mNameError\u001b[0m: name 'pi' is not defined"
     ]
    }
   ],
   "source": [
    "math.ceil(pi**2)"
   ]
  },
  {
   "cell_type": "code",
   "execution_count": 37,
   "metadata": {},
   "outputs": [
    {
     "ename": "TypeError",
     "evalue": "'int' object is not subscriptable",
     "output_type": "error",
     "traceback": [
      "\u001b[1;31m---------------------------------------------------------------------------\u001b[0m",
      "\u001b[1;31mTypeError\u001b[0m                                 Traceback (most recent call last)",
      "\u001b[1;32m<ipython-input-37-34cfea2e266d>\u001b[0m in \u001b[0;36m<module>\u001b[1;34m\u001b[0m\n\u001b[1;32m----> 1\u001b[1;33m \u001b[1;33m[\u001b[0m\u001b[1;36m3\u001b[0m\u001b[1;33m]\u001b[0m\u001b[1;33m*\u001b[0m\u001b[1;36m10\u001b[0m\u001b[1;33m[\u001b[0m\u001b[1;33m-\u001b[0m\u001b[1;36m1\u001b[0m\u001b[1;33m]\u001b[0m\u001b[1;33m\u001b[0m\u001b[1;33m\u001b[0m\u001b[0m\n\u001b[0m",
      "\u001b[1;31mTypeError\u001b[0m: 'int' object is not subscriptable"
     ]
    }
   ],
   "source": [
    "[3]*10[-1]"
   ]
  },
  {
   "cell_type": "code",
   "execution_count": 38,
   "metadata": {},
   "outputs": [
    {
     "data": {
      "text/plain": [
       "[3, 4]"
      ]
     },
     "execution_count": 38,
     "metadata": {},
     "output_type": "execute_result"
    }
   ],
   "source": [
    "[3]+[4]"
   ]
  },
  {
   "cell_type": "code",
   "execution_count": 40,
   "metadata": {},
   "outputs": [
    {
     "name": "stdout",
     "output_type": "stream",
     "text": [
      "[1, 2, 4, 6, 7]\n",
      "[2]\n",
      "[1, 4, 6, 7]\n"
     ]
    }
   ],
   "source": [
    "class Set():\n",
    "\tdef __init__(self, val=[]):\n",
    "\t\tself._value = val\n",
    "\t\tself._value = self.get_unique()\n",
    "\n",
    "\tdef get_unique(self):\n",
    "\t\tuvals = []\n",
    "\t\tfor i in self._value:\n",
    "\t\t\tif i not in uvals:\n",
    "\t\t\t\tuvals.append(i)\n",
    "\n",
    "\t\treturn uvals\n",
    "\n",
    "\tdef __sub__(self, other):\n",
    "\t\tn = max(len(self._value), len(other._value))\n",
    "\t\tresult = Set()\n",
    "\t\tresult._value = [i for i in self._value if i not in other._value]\n",
    "\n",
    "\t\treturn result\n",
    "\n",
    "\tdef __repr__(self):\n",
    "\t\tstring = str(self._value)\n",
    "\t\treturn string\n",
    "\n",
    "a = Set([1, 2, 2, 4, 6, 7, 7])\n",
    "b = Set([2, 2, 2])\n",
    "\n",
    "print(a)\n",
    "print(b)\n",
    "print(a-b)"
   ]
  },
  {
   "cell_type": "code",
   "execution_count": 41,
   "metadata": {},
   "outputs": [
    {
     "data": {
      "text/plain": [
       "(4,)"
      ]
     },
     "execution_count": 41,
     "metadata": {},
     "output_type": "execute_result"
    }
   ],
   "source": [
    "(4,)"
   ]
  },
  {
   "cell_type": "code",
   "execution_count": 42,
   "metadata": {},
   "outputs": [
    {
     "data": {
      "text/plain": [
       "4"
      ]
     },
     "execution_count": 42,
     "metadata": {},
     "output_type": "execute_result"
    }
   ],
   "source": [
    "(4)"
   ]
  },
  {
   "cell_type": "code",
   "execution_count": 58,
   "metadata": {},
   "outputs": [],
   "source": [
    "class ComplexNumber:\n",
    "    def __init__(self,r,i):\n",
    "        self._real = r\n",
    "        self._image = i\n",
    "        print(__name__)\n",
    "if __name__ == 'main':\n",
    "    print(__name__)"
   ]
  },
  {
   "cell_type": "code",
   "execution_count": 59,
   "metadata": {},
   "outputs": [
    {
     "name": "stdout",
     "output_type": "stream",
     "text": [
      "to-be-or-not\n"
     ]
    }
   ],
   "source": [
    "print('to','be','or','not',sep='-')"
   ]
  },
  {
   "cell_type": "code",
   "execution_count": 60,
   "metadata": {},
   "outputs": [
    {
     "data": {
      "text/plain": [
       "[1]"
      ]
     },
     "execution_count": 60,
     "metadata": {},
     "output_type": "execute_result"
    }
   ],
   "source": [
    "x = [1]\n",
    "x"
   ]
  },
  {
   "cell_type": "code",
   "execution_count": 63,
   "metadata": {},
   "outputs": [],
   "source": [
    "x = x+ [2]"
   ]
  },
  {
   "cell_type": "code",
   "execution_count": 64,
   "metadata": {},
   "outputs": [
    {
     "data": {
      "text/plain": [
       "[1, 2]"
      ]
     },
     "execution_count": 64,
     "metadata": {},
     "output_type": "execute_result"
    }
   ],
   "source": [
    "x"
   ]
  },
  {
   "cell_type": "code",
   "execution_count": 65,
   "metadata": {},
   "outputs": [],
   "source": [
    "y = [1]"
   ]
  },
  {
   "cell_type": "code",
   "execution_count": 66,
   "metadata": {},
   "outputs": [],
   "source": [
    "z = [3]\n",
    "x = x +y+z"
   ]
  },
  {
   "cell_type": "code",
   "execution_count": 67,
   "metadata": {},
   "outputs": [
    {
     "data": {
      "text/plain": [
       "[1, 2, 1, 3]"
      ]
     },
     "execution_count": 67,
     "metadata": {},
     "output_type": "execute_result"
    }
   ],
   "source": [
    "x"
   ]
  },
  {
   "cell_type": "code",
   "execution_count": 68,
   "metadata": {},
   "outputs": [
    {
     "data": {
      "text/plain": [
       "[1, 2, 1, 3, 1, 2, 1, 3, 1, 2, 1, 3]"
      ]
     },
     "execution_count": 68,
     "metadata": {},
     "output_type": "execute_result"
    }
   ],
   "source": [
    "x = x*3\n",
    "x"
   ]
  },
  {
   "cell_type": "code",
   "execution_count": 71,
   "metadata": {},
   "outputs": [
    {
     "ename": "NameError",
     "evalue": "name 'pi' is not defined",
     "output_type": "error",
     "traceback": [
      "\u001b[1;31m---------------------------------------------------------------------------\u001b[0m",
      "\u001b[1;31mNameError\u001b[0m                                 Traceback (most recent call last)",
      "\u001b[1;32m<ipython-input-71-106ddb3930a8>\u001b[0m in \u001b[0;36m<module>\u001b[1;34m\u001b[0m\n\u001b[0;32m      1\u001b[0m \u001b[1;32mimport\u001b[0m \u001b[0mmath\u001b[0m\u001b[1;33m\u001b[0m\u001b[1;33m\u001b[0m\u001b[0m\n\u001b[1;32m----> 2\u001b[1;33m \u001b[0mmath\u001b[0m\u001b[1;33m.\u001b[0m\u001b[0mceil\u001b[0m\u001b[1;33m(\u001b[0m\u001b[0mpi\u001b[0m\u001b[1;33m**\u001b[0m\u001b[1;36m2\u001b[0m\u001b[1;33m)\u001b[0m\u001b[1;33m\u001b[0m\u001b[1;33m\u001b[0m\u001b[0m\n\u001b[0m",
      "\u001b[1;31mNameError\u001b[0m: name 'pi' is not defined"
     ]
    }
   ],
   "source": [
    "import math\n",
    "math.ceil(pi**2)"
   ]
  },
  {
   "cell_type": "code",
   "execution_count": 80,
   "metadata": {},
   "outputs": [],
   "source": [
    "def fibo(n):\n",
    "    print('*')\n",
    "    if n==1:\n",
    "        return n\n",
    "    elif n==2 or n==3:\n",
    "        return n-1\n",
    "    else:\n",
    "        return fibo(n-1) + fibo(n-2)"
   ]
  },
  {
   "cell_type": "code",
   "execution_count": 94,
   "metadata": {},
   "outputs": [
    {
     "name": "stdout",
     "output_type": "stream",
     "text": [
      "*\n",
      "*\n",
      "*\n",
      "*\n",
      "*\n"
     ]
    },
    {
     "data": {
      "text/plain": [
       "5"
      ]
     },
     "execution_count": 94,
     "metadata": {},
     "output_type": "execute_result"
    }
   ],
   "source": [
    "fibo(5)"
   ]
  },
  {
   "cell_type": "code",
   "execution_count": 97,
   "metadata": {},
   "outputs": [
    {
     "data": {
      "text/plain": [
       "2"
      ]
     },
     "execution_count": 97,
     "metadata": {},
     "output_type": "execute_result"
    }
   ],
   "source": [
    "s1 = 'hello'\n",
    "s2 = 'll'\n",
    "s1.find(s2)"
   ]
  },
  {
   "cell_type": "code",
   "execution_count": 1,
   "metadata": {},
   "outputs": [
    {
     "name": "stdout",
     "output_type": "stream",
     "text": [
      "0 4 5\n",
      "1 7 6\n",
      "0 5 9\n",
      "1 7 2\n",
      "8.19\n"
     ]
    }
   ],
   "source": [
    "import math\n",
    "\n",
    "class Points(object):\n",
    "    def __init__(self, x, y, z):\n",
    "        self.x = x\n",
    "        self.y = y\n",
    "        self.z = z\n",
    "\n",
    "    def __sub__(self, no):\n",
    "#         ls = [no.x - self.x, no.y - self.y, no.z - self.z]\n",
    "        return Points(no.x - self.x, no.y - self.y, no.z - self.z)\n",
    "\n",
    "    def dot(self, no):\n",
    "        \n",
    "        return self.x*no.x + self.y*no.y + self.z*no.z\n",
    "\n",
    "    def cross(self, no):\n",
    "        l2 = Points(self.y*no.z - self.z*no.y, (-1)*(self.x*no.z - self.z*no.x), self.x*no.y-self.y*no.x)\n",
    "        return l2\n",
    "        \n",
    "    def absolute(self):\n",
    "        return pow((self.x ** 2 + self.y ** 2 + self.z ** 2), 0.5)\n",
    "\n",
    "if __name__ == '__main__':\n",
    "    points = list()\n",
    "    for i in range(4):\n",
    "        a = list(map(float, input().split()))\n",
    "        points.append(a)\n",
    "\n",
    "    a, b, c, d = Points(*points[0]), Points(*points[1]), Points(*points[2]), Points(*points[3])\n",
    "    x = (b - a).cross(c - b)\n",
    "    y = (c - b).cross(d - c)\n",
    "    angle = math.acos(x.dot(y) / (x.absolute() * y.absolute()))\n",
    "\n",
    "    print(\"%.2f\" % math.degrees(angle))"
   ]
  },
  {
   "cell_type": "code",
   "execution_count": 18,
   "metadata": {},
   "outputs": [],
   "source": [
    "class Set:\n",
    "    def __init__(self,l1):\n",
    "        self.ls = l1\n",
    "        self.ls_unique= []\n",
    "        for i in self.ls:\n",
    "            if(i not in self.ls_unique):\n",
    "                self.ls_unique.append(i)\n",
    "    def __sub__(self,ob):\n",
    "        \n",
    "        for i in self.ls_unique:\n",
    "            if i in ob.ls_unique:\n",
    "                self.ls_unique.remove(i)\n",
    "        return self.ls_unique"
   ]
  },
  {
   "cell_type": "code",
   "execution_count": 19,
   "metadata": {},
   "outputs": [
    {
     "name": "stdout",
     "output_type": "stream",
     "text": [
      "[1, 3, 4]\n"
     ]
    }
   ],
   "source": [
    "print(Set([1,2,3,3,4,4])-Set([2,2,2]))"
   ]
  },
  {
   "cell_type": "code",
   "execution_count": 1,
   "metadata": {},
   "outputs": [
    {
     "ename": "TypeError",
     "evalue": "unsupported operand type(s) for +: 'int' and 'tuple'",
     "output_type": "error",
     "traceback": [
      "\u001b[1;31m---------------------------------------------------------------------------\u001b[0m",
      "\u001b[1;31mTypeError\u001b[0m                                 Traceback (most recent call last)",
      "\u001b[1;32m<ipython-input-1-250d3b5dbb41>\u001b[0m in \u001b[0;36m<module>\u001b[1;34m\u001b[0m\n\u001b[1;32m----> 1\u001b[1;33m \u001b[1;33m(\u001b[0m\u001b[1;33m(\u001b[0m\u001b[1;36m1\u001b[0m\u001b[1;33m)\u001b[0m\u001b[1;33m)\u001b[0m \u001b[1;33m+\u001b[0m \u001b[1;33m(\u001b[0m\u001b[1;36m2\u001b[0m\u001b[1;33m,\u001b[0m\u001b[1;36m3\u001b[0m\u001b[1;33m)\u001b[0m\u001b[1;33m\u001b[0m\u001b[1;33m\u001b[0m\u001b[0m\n\u001b[0m",
      "\u001b[1;31mTypeError\u001b[0m: unsupported operand type(s) for +: 'int' and 'tuple'"
     ]
    }
   ],
   "source": [
    "((1)) + (2,3)"
   ]
  },
  {
   "cell_type": "code",
   "execution_count": 2,
   "metadata": {},
   "outputs": [
    {
     "data": {
      "text/plain": [
       "(1, 2, 2, 3)"
      ]
     },
     "execution_count": 2,
     "metadata": {},
     "output_type": "execute_result"
    }
   ],
   "source": [
    "(1,2) + (2,3)"
   ]
  },
  {
   "cell_type": "code",
   "execution_count": 3,
   "metadata": {},
   "outputs": [
    {
     "data": {
      "text/plain": [
       "(1, 2, 3)"
      ]
     },
     "execution_count": 3,
     "metadata": {},
     "output_type": "execute_result"
    }
   ],
   "source": [
    "((1,)) + (2,3)"
   ]
  },
  {
   "cell_type": "code",
   "execution_count": 4,
   "metadata": {},
   "outputs": [],
   "source": [
    "y = [1]"
   ]
  },
  {
   "cell_type": "code",
   "execution_count": 5,
   "metadata": {},
   "outputs": [],
   "source": [
    "x = y"
   ]
  },
  {
   "cell_type": "code",
   "execution_count": 7,
   "metadata": {},
   "outputs": [],
   "source": [
    "y = y + x + [2]"
   ]
  },
  {
   "cell_type": "code",
   "execution_count": 8,
   "metadata": {},
   "outputs": [
    {
     "data": {
      "text/plain": [
       "[1]"
      ]
     },
     "execution_count": 8,
     "metadata": {},
     "output_type": "execute_result"
    }
   ],
   "source": [
    "x"
   ]
  },
  {
   "cell_type": "code",
   "execution_count": 9,
   "metadata": {},
   "outputs": [],
   "source": [
    "x = 29"
   ]
  },
  {
   "cell_type": "code",
   "execution_count": 10,
   "metadata": {},
   "outputs": [],
   "source": [
    "x = x//5"
   ]
  },
  {
   "cell_type": "code",
   "execution_count": 11,
   "metadata": {},
   "outputs": [
    {
     "data": {
      "text/plain": [
       "5"
      ]
     },
     "execution_count": 11,
     "metadata": {},
     "output_type": "execute_result"
    }
   ],
   "source": [
    "x"
   ]
  },
  {
   "cell_type": "code",
   "execution_count": 12,
   "metadata": {},
   "outputs": [],
   "source": [
    "x = x ^ 2"
   ]
  },
  {
   "cell_type": "code",
   "execution_count": 13,
   "metadata": {},
   "outputs": [
    {
     "data": {
      "text/plain": [
       "7"
      ]
     },
     "execution_count": 13,
     "metadata": {},
     "output_type": "execute_result"
    }
   ],
   "source": [
    "x"
   ]
  },
  {
   "cell_type": "code",
   "execution_count": 14,
   "metadata": {},
   "outputs": [],
   "source": [
    "y = 4"
   ]
  },
  {
   "cell_type": "code",
   "execution_count": 18,
   "metadata": {},
   "outputs": [
    {
     "data": {
      "text/plain": [
       "6"
      ]
     },
     "execution_count": 18,
     "metadata": {},
     "output_type": "execute_result"
    }
   ],
   "source": [
    "y^2"
   ]
  },
  {
   "cell_type": "code",
   "execution_count": 20,
   "metadata": {},
   "outputs": [
    {
     "name": "stdout",
     "output_type": "stream",
     "text": [
      "2\n"
     ]
    }
   ],
   "source": [
    "z = 5\n",
    "z = z//2\n",
    "print(z)"
   ]
  },
  {
   "cell_type": "code",
   "execution_count": 21,
   "metadata": {},
   "outputs": [],
   "source": [
    "x = [0,1,2,3,4]"
   ]
  },
  {
   "cell_type": "code",
   "execution_count": 22,
   "metadata": {},
   "outputs": [],
   "source": [
    "x[-1] = x[:-1]"
   ]
  },
  {
   "cell_type": "code",
   "execution_count": 23,
   "metadata": {},
   "outputs": [
    {
     "data": {
      "text/plain": [
       "[0, 1, 2, 3, [0, 1, 2, 3]]"
      ]
     },
     "execution_count": 23,
     "metadata": {},
     "output_type": "execute_result"
    }
   ],
   "source": [
    "x"
   ]
  },
  {
   "cell_type": "code",
   "execution_count": 1,
   "metadata": {},
   "outputs": [],
   "source": [
    "import re"
   ]
  },
  {
   "cell_type": "code",
   "execution_count": 4,
   "metadata": {},
   "outputs": [
    {
     "data": {
      "text/plain": [
       "'DSA'"
      ]
     },
     "execution_count": 4,
     "metadata": {},
     "output_type": "execute_result"
    }
   ],
   "source": [
    "string = \"My fav class is DSA\"\n",
    "m = re.search(\"DSA\",string)\n",
    "m.group(0)"
   ]
  },
  {
   "cell_type": "code",
   "execution_count": 7,
   "metadata": {},
   "outputs": [
    {
     "data": {
      "text/plain": [
       "'TGGTGGTGG'"
      ]
     },
     "execution_count": 7,
     "metadata": {},
     "output_type": "execute_result"
    }
   ],
   "source": [
    "string = \"TGGTGGTGG\"\n",
    "m = re.search(\"[TG]*\",string)\n",
    "m.group(0)"
   ]
  },
  {
   "cell_type": "code",
   "execution_count": 10,
   "metadata": {},
   "outputs": [
    {
     "data": {
      "text/plain": [
       "'T'"
      ]
     },
     "execution_count": 10,
     "metadata": {},
     "output_type": "execute_result"
    }
   ],
   "source": [
    "string = \"TGGTGGTGG\"\n",
    "m = re.search(\"[TG]\",string)\n",
    "m.group(0)"
   ]
  },
  {
   "cell_type": "code",
   "execution_count": 11,
   "metadata": {},
   "outputs": [
    {
     "data": {
      "text/plain": [
       "'TGG'"
      ]
     },
     "execution_count": 11,
     "metadata": {},
     "output_type": "execute_result"
    }
   ],
   "source": [
    "string = \"TGG\"\n",
    "m = re.search(\"...\",string)\n",
    "m.group(0)"
   ]
  },
  {
   "cell_type": "code",
   "execution_count": null,
   "metadata": {},
   "outputs": [],
   "source": []
  }
 ],
 "metadata": {
  "interpreter": {
   "hash": "45b100d311fde5e83aff6d813b1d0d19924a7f45789458ab879b772e2eece48c"
  },
  "kernelspec": {
   "display_name": "Python 3",
   "language": "python",
   "name": "python3"
  },
  "language_info": {
   "codemirror_mode": {
    "name": "ipython",
    "version": 3
   },
   "file_extension": ".py",
   "mimetype": "text/x-python",
   "name": "python",
   "nbconvert_exporter": "python",
   "pygments_lexer": "ipython3",
   "version": "3.7.6"
  }
 },
 "nbformat": 4,
 "nbformat_minor": 2
}
