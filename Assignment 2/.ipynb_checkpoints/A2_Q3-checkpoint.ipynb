{
 "cells": [
  {
   "cell_type": "code",
   "execution_count": 1,
   "metadata": {},
   "outputs": [
    {
     "data": {
      "text/plain": [
       "<matplotlib.image.AxesImage at 0x2212601a8c8>"
      ]
     },
     "execution_count": 1,
     "metadata": {},
     "output_type": "execute_result"
    },
    {
     "data": {
      "image/png": "[encoded data removed]",
      "text/plain": [
       "<Figure size 288x288 with 1 Axes>"
      ]
     },
     "metadata": {
      "needs_background": "light"
     },
     "output_type": "display_data"
    }
   ],
   "source": [
    "# DSA for Biology - Assignment 2 \n",
    "# Template for question  - Conway's Game of Life\n",
    "\n",
    "class Simulate_Conways_Game_of_Life():\n",
    "    def __init__(self, MyMatrix):\n",
    "        self.matrix = MyMatrix\n",
    "        \"\"\" Add your code here \"\"\"\n",
    "\n",
    "    \"\"\" Add your functions here \"\"\"\n",
    "    def isAlive(self,ele):\n",
    "        if(ele==1):\n",
    "            return True\n",
    "        else:\n",
    "            return False\n",
    "    \n",
    "    def check_neighbour(self, check_row , check_column):\n",
    "\n",
    "        #empty list to append the valid neighbours\n",
    "        neighbour_list = []\n",
    "        for row in range(-1,2):\n",
    "            for column in range(-1,2):\n",
    "                neighbour_row = check_row + row\n",
    "                neighbour_column = check_column + column \n",
    "                \n",
    "                valid_neighbour = True\n",
    "\n",
    "                if ((neighbour_row) == check_row and (neighbour_column) == check_column):\n",
    "                    valid_neighbour = False\n",
    "\n",
    "                if ((neighbour_row) < 0 or (neighbour_row) >= len(self.matrix)):\n",
    "                    valid_neighbour = False\n",
    "\n",
    "                if ((neighbour_column) < 0 or (neighbour_column) >= len(self.matrix[0])):\n",
    "                    valid_neighbour = False\n",
    "\n",
    "                if valid_neighbour==True:\n",
    "                    neighbour_list.append(self.matrix[neighbour_row][neighbour_column])\n",
    "        return neighbour_list   \n",
    "\n",
    "    \n",
    "    def simulate_one_step(self):\n",
    "        '''\n",
    "        method that updates the board based on\n",
    "        the check of each cell pr. generation\n",
    "        '''\n",
    "        #cells list for living cells to kill and cells to resurrect or keep alive\n",
    "        goes_alive = []\n",
    "        gets_killed = []\n",
    "\n",
    "        for row in range(len(self.matrix)):\n",
    "            for column in range(len(self.matrix[row])):\n",
    "                #check neighbour per square:\n",
    "                check_neighbour = self.check_neighbour(row , column)\n",
    "                \n",
    "                living_neighbours_count = []\n",
    "\n",
    "                for neighbour_cell in check_neighbour:\n",
    "                    #check live status for neighbour_cell:\n",
    "                    if self.isAlive(neighbour_cell):\n",
    "                        living_neighbours_count.append(neighbour_cell)\n",
    "\n",
    "                cell_object = self.matrix[row][column]\n",
    "                status_main_cell = self.isAlive(cell_object)\n",
    "\n",
    "                #If the cell is alive, check the neighbour status.\n",
    "                if status_main_cell == True:\n",
    "                    if len(living_neighbours_count) < 2 or len(living_neighbours_count) > 3:\n",
    "                        gets_killed.append(cell_object)\n",
    "\n",
    "                    if len(living_neighbours_count) == 3 or len(living_neighbours_count) == 2:\n",
    "                        goes_alive.append(cell_object)\n",
    "\n",
    "                else:\n",
    "                    if len(living_neighbours_count) == 3:\n",
    "                        goes_alive.append(cell_object)\n",
    "\n",
    "        #set cell statuses\n",
    "        for cell_items in goes_alive:\n",
    "            cell_items=1\n",
    "            \n",
    "            \n",
    "            \n",
    "\n",
    "        for cell_items in gets_killed:\n",
    "            cell_items=0\n",
    "\n",
    "                \n",
    "    def final_output(self):\n",
    "        \"\"\"\n",
    "        Return the output of the 39th step \n",
    "        \"\"\"\n",
    "        for i in range(39):\n",
    "            self.simulate_one_step()\n",
    "        return self.matrix \n",
    "\n",
    "\n",
    "Glider = [[0 for i in range(100)] for j in range(100)]\n",
    "Glider[1][2] = 1\n",
    "Glider[2][3] = 1\n",
    "Glider[3][1:4] = [1,1,1]\n",
    "\n",
    "# 0 - Dead cell, 1 - Live cell\n",
    "Game1 = Simulate_Conways_Game_of_Life(Glider)\n",
    "Step_39 = Game1.final_output()\n",
    "\n",
    "from matplotlib.pyplot import matshow\n",
    "\n",
    "matshow(Step_39)"
   ]
  },
  {
   "cell_type": "code",
   "execution_count": null,
   "metadata": {},
   "outputs": [],
   "source": []
  }
 ],
 "metadata": {
  "kernelspec": {
   "display_name": "Python 3",
   "language": "python",
   "name": "python3"
  },
  "language_info": {
   "codemirror_mode": {
    "name": "ipython",
    "version": 3
   },
   "file_extension": ".py",
   "mimetype": "text/x-python",
   "name": "python",
   "nbconvert_exporter": "python",
   "pygments_lexer": "ipython3",
   "version": "3.7.6"
  }
 },
 "nbformat": 4,
 "nbformat_minor": 4
}
