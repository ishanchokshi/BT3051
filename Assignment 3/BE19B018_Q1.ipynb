{
 "cells": [
  {
   "cell_type": "code",
   "execution_count": 58,
   "metadata": {},
   "outputs": [
    {
     "name": "stdout",
     "output_type": "stream",
     "text": [
      "5\n",
      "0.002069234848022461\n"
     ]
    }
   ],
   "source": [
    "import time\n",
    "start = time.time()\n",
    "def min_mutations(s,t):\n",
    "    m = len(s)\n",
    "    n = len(t)\n",
    "    memo_table = [[0 for x in range(n + 1)] for x in range(m + 1)] #Creating a memoisation table to store values of subproblems\n",
    "    purine = 'AG'\n",
    "    \n",
    "    for i in range(m + 1):\n",
    "        for j in range(n + 1):\n",
    "            if i == 0:\n",
    "                memo_table[i][j] = 2*j \n",
    "            elif j == 0:\n",
    "                memo_table[i][j] = 2*i \n",
    "            elif s[i-1] == t[j-1]:\n",
    "                memo_table[i][j] = memo_table[i-1][j-1]\n",
    "            else:\n",
    "                if(s[i-1] in purine and t[i-1] in purine):\n",
    "                    cost_substitution = 1\n",
    "                else:\n",
    "                    cost_substitution = 3\n",
    "                memo_table[i][j] = min(memo_table[i][j-1]+2,        # Insert\n",
    "                                       memo_table[i-1][j]+2,        # Remove\n",
    "                                       memo_table[i-1][j-1]+cost_substitution)    # Replace\n",
    "    return memo_table[m][n]\n",
    "\n",
    "s = \"ATGC\"\n",
    "t = \"ATGGG\"\n",
    "  \n",
    "print(min_mutations(s,t))\n",
    "end = time.time()\n",
    "print(end-start)"
   ]
  },
  {
   "cell_type": "code",
   "execution_count": null,
   "metadata": {},
   "outputs": [],
   "source": []
  }
 ],
 "metadata": {
  "kernelspec": {
   "display_name": "Python 3",
   "language": "python",
   "name": "python3"
  },
  "language_info": {
   "codemirror_mode": {
    "name": "ipython",
    "version": 3
   },
   "file_extension": ".py",
   "mimetype": "text/x-python",
   "name": "python",
   "nbconvert_exporter": "python",
   "pygments_lexer": "ipython3",
   "version": "3.7.6"
  }
 },
 "nbformat": 4,
 "nbformat_minor": 4
}
