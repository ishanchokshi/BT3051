{
 "cells": [
  {
   "cell_type": "code",
   "execution_count": 54,
   "metadata": {},
   "outputs": [
    {
     "name": "stdout",
     "output_type": "stream",
     "text": [
      "[1.0, 3.0]\n",
      "([1.0, 1.0], [0.0, 3.0])\n"
     ]
    }
   ],
   "source": [
    "# no libraries are allowed\n",
    "\n",
    "\"\"\" Add your functions here \"\"\"\n",
    "\n",
    "def k_closest_points(x_array, y_array, point, k):\n",
    "    \"\"\"\n",
    "    (list of float, list of float, tuple of two floats, int) -> (list of float), (list of float)\n",
    "    \n",
    "    >>> k_closest_points([1.0, 1.0, 3.0, 5.0], [0.0, 3.0, 4.0, 5.0], (0.0, 0.0), 2)\n",
    "        [1.0, 1.0], [0.0, 3.0]\n",
    "    \"\"\"\n",
    "    assert (len(x_array) == len(y_array))\n",
    "    n = len(x_array)\n",
    "    assert (k <= n)\n",
    "    all_points = [[x_array[i], y_array[i]] for i in range(n)]\n",
    "    all_points = sorted(all_points, key=lambda e: ((e[0] - point[0]) ** 2 + (e[1] - point[1]) ** 2)) # sort all points according to euclidean distance\n",
    "    closest_k_x = [all_points[i][0] for i in range(k)]\n",
    "    closest_k_y = [all_points[i][1] for i in range(k)]\n",
    "    return closest_k_x, closest_k_y\n",
    "\n",
    "print(k_closest_points([1.0, 1.0, 3.0, 5.0], [0.0, 3.0, 4.0, 5.0], (0.0, 0.0), 2))"
   ]
  },
  {
   "cell_type": "code",
   "execution_count": 11,
   "metadata": {},
   "outputs": [],
   "source": [
    "x_array = [1.0, 1.0, 3.0, 5.0]\n",
    "y_array = [0.0, 3.0, 4.0, 5.0]\n",
    "points = list(zip(x_array,y_array))"
   ]
  },
  {
   "cell_type": "code",
   "execution_count": 12,
   "metadata": {},
   "outputs": [
    {
     "data": {
      "text/plain": [
       "[(1.0, 0.0), (1.0, 3.0), (3.0, 4.0), (5.0, 5.0)]"
      ]
     },
     "execution_count": 12,
     "metadata": {},
     "output_type": "execute_result"
    }
   ],
   "source": [
    "points"
   ]
  },
  {
   "cell_type": "code",
   "execution_count": 13,
   "metadata": {},
   "outputs": [
    {
     "data": {
      "text/plain": [
       "(1.0, 0.0)"
      ]
     },
     "execution_count": 13,
     "metadata": {},
     "output_type": "execute_result"
    }
   ],
   "source": [
    "points[0]"
   ]
  },
  {
   "cell_type": "code",
   "execution_count": 15,
   "metadata": {},
   "outputs": [],
   "source": [
    "arr = sorted(points, key=lambda p: (p[0])**2 + (p[1])**2)[:2]"
   ]
  },
  {
   "cell_type": "code",
   "execution_count": 17,
   "metadata": {},
   "outputs": [
    {
     "name": "stdout",
     "output_type": "stream",
     "text": [
      "[(1.0, 0.0), (1.0, 3.0)]\n"
     ]
    }
   ],
   "source": [
    "print(sorted(points, key=lambda p: p[0]**2 + p[1]**2)[:2])\n"
   ]
  },
  {
   "cell_type": "code",
   "execution_count": 28,
   "metadata": {},
   "outputs": [
    {
     "data": {
      "text/plain": [
       "[1.0, 0.0]"
      ]
     },
     "execution_count": 28,
     "metadata": {},
     "output_type": "execute_result"
    }
   ],
   "source": [
    "x_array = [1.0, 1.0, 3.0, 5.0]\n",
    "y_array = [0.0, 3.0, 4.0, 5.0]\n",
    "\n",
    "coordinates = [[i,j] for i,j in zip(x_array,y_array)]"
   ]
  },
  {
   "cell_type": "code",
   "execution_count": 101,
   "metadata": {},
   "outputs": [],
   "source": [
    "def k_closest_points_1(x_array, y_array, point, k):\n",
    "    \"\"\"\n",
    "    (list of float, list of float, tuple of two floats, int) -> (list of float), (list of float)\n",
    "    \n",
    "    >>> k_closest_points([1.0, 1.0, 3.0, 5.0], [0.0, 3.0, 4.0, 5.0], (0.0, 0.0), 2)\n",
    "        [1.0, 1.0], [0.0, 3.0]\n",
    "    \"\"\"\n",
    "    \"\"\" Add your code here \"\"\"\n",
    "    coordinates = [[i,j] for i,j in zip(x_array,y_array)]\n",
    "    x_closest = [(sorted(coordinates, key=lambda p: (p[0]-point[0])**2 + (p[1]-point[1])**2)[:k])[i][0] for i in range(k)]\n",
    "    y_closest = [(sorted(coordinates, key=lambda p: (p[0]-point[0])**2 + (p[1]-point[1])**2)[:k])[i][1] for i in range(k)]\n",
    "    print(x_closest, end = ', ')\n",
    "    print(y_closest)\n",
    "    return None"
   ]
  },
  {
   "cell_type": "code",
   "execution_count": 102,
   "metadata": {},
   "outputs": [
    {
     "name": "stdout",
     "output_type": "stream",
     "text": [
      "[1.0, 1.0], [0.0, 3.0]\n"
     ]
    }
   ],
   "source": [
    "k_closest_points_1([1.0, 1.0, 3.0, 5.0], [0.0, 3.0, 4.0, 5.0], (0.0, 0.0), 2)"
   ]
  },
  {
   "cell_type": "code",
   "execution_count": 103,
   "metadata": {},
   "outputs": [],
   "source": [
    "ls = [1,2]"
   ]
  },
  {
   "cell_type": "code",
   "execution_count": 104,
   "metadata": {},
   "outputs": [],
   "source": [
    "ls1 = str(ls)"
   ]
  },
  {
   "cell_type": "code",
   "execution_count": 105,
   "metadata": {},
   "outputs": [
    {
     "data": {
      "text/plain": [
       "'[1, 2]'"
      ]
     },
     "execution_count": 105,
     "metadata": {},
     "output_type": "execute_result"
    }
   ],
   "source": [
    "ls1"
   ]
  },
  {
   "cell_type": "code",
   "execution_count": null,
   "metadata": {},
   "outputs": [],
   "source": []
  }
 ],
 "metadata": {
  "kernelspec": {
   "display_name": "Python 3",
   "language": "python",
   "name": "python3"
  },
  "language_info": {
   "codemirror_mode": {
    "name": "ipython",
    "version": 3
   },
   "file_extension": ".py",
   "mimetype": "text/x-python",
   "name": "python",
   "nbconvert_exporter": "python",
   "pygments_lexer": "ipython3",
   "version": "3.7.6"
  }
 },
 "nbformat": 4,
 "nbformat_minor": 4
}
