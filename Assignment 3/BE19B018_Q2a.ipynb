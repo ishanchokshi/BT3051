{
 "cells": [
  {
   "cell_type": "code",
   "execution_count": 89,
   "metadata": {},
   "outputs": [
    {
     "name": "stdout",
     "output_type": "stream",
     "text": [
      "Maximum Profit =  3\n",
      "0.0010039806365966797\n"
     ]
    }
   ],
   "source": [
    "import time\n",
    "start = time.time()\n",
    "# Python3 implmenetation to find\n",
    "# maximum possible profit\n",
    "# with at most two transactions\n",
    "import sys\n",
    " \n",
    "# Function to find the maximum\n",
    "# profit with two transactions\n",
    "# on a given list of stock prices\n",
    "def maxProfit(price, n):\n",
    " \n",
    "    # buy1 - Money lent to buy 1 stock\n",
    "    # profit1 - Profit after selling\n",
    "    # the 1st stock buyed.\n",
    "    # buy2 - Money lent to buy 2 stocks\n",
    "    # including profit of selling 1st stock\n",
    "    # profit2 - Profit after selling 2 stocks\n",
    "     \n",
    "    # Set initial buying values to\n",
    "    # INT_MAX as we want to minimize it\n",
    "    buy1, buy2 = max(price)+1, max(price)+1\n",
    "   \n",
    "    # Set initial selling values to\n",
    "    # zero as we want to maximize it\n",
    "    profit1, profit2 = 0, 0\n",
    "   \n",
    "    for i in range(n):\n",
    "   \n",
    "        # Money lent to buy the stock\n",
    "        # should be minimum as possible.\n",
    "        # buy1 tracks the minimum possible\n",
    "        # stock to buy from 0 to i-1.\n",
    "        buy1 = min(buy1, price[i])\n",
    "   \n",
    "        # Profit after selling a stock\n",
    "        # should be maximum as possible.\n",
    "        # profit1 tracks maximum possible\n",
    "        # profit we can make from 0 to i-1.\n",
    "        profit1 = max(profit1, price[i] - buy1)\n",
    "   \n",
    "        # Now for buying the 2nd stock,\n",
    "        # we will integrate profit made\n",
    "        # from selling the 1st stock\n",
    "        buy2 = min(buy2, price[i] - profit1)\n",
    "   \n",
    "        # Profit after selling a 2 stocks\n",
    "        # should be maximum as possible.\n",
    "        # profit2 tracks maximum possible\n",
    "        # profit we can make from 0 to i-1.\n",
    "        profit2 = max(profit2, price[i] - buy2)\n",
    " \n",
    "    return profit2\n",
    "   \n",
    "# Driver code\n",
    "price = [3,3,5,0,0,1]\n",
    "n = len(price)\n",
    " \n",
    "print(\"Maximum Profit = \", maxProfit(price, n))\n",
    "end = time.time()\n",
    "print(end-start)\n",
    " \n",
    "# This code is contributed by divyeshrabadiya07"
   ]
  },
  {
   "cell_type": "code",
   "execution_count": 85,
   "metadata": {},
   "outputs": [
    {
     "data": {
      "text/plain": [
       "NoneType"
      ]
     },
     "execution_count": 85,
     "metadata": {},
     "output_type": "execute_result"
    }
   ],
   "source": []
  },
  {
   "cell_type": "code",
   "execution_count": null,
   "metadata": {},
   "outputs": [],
   "source": []
  }
 ],
 "metadata": {
  "kernelspec": {
   "display_name": "Python 3",
   "language": "python",
   "name": "python3"
  },
  "language_info": {
   "codemirror_mode": {
    "name": "ipython",
    "version": 3
   },
   "file_extension": ".py",
   "mimetype": "text/x-python",
   "name": "python",
   "nbconvert_exporter": "python",
   "pygments_lexer": "ipython3",
   "version": "3.7.6"
  }
 },
 "nbformat": 4,
 "nbformat_minor": 4
}
