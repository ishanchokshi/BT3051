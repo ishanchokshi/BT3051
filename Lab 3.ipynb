{
 "cells": [
  {
   "cell_type": "markdown",
   "metadata": {},
   "source": [
    "### Write a Complex class that has real and imaginary components. Add functions that can enable us to print, add, subtract and multiply complex numbers."
   ]
  },
  {
   "cell_type": "code",
   "execution_count": 38,
   "metadata": {},
   "outputs": [],
   "source": [
    "class Complex:\n",
    "    def __init__(self,a,b):\n",
    "        self._a = a\n",
    "        self._b = b\n",
    "    def __add__(self, c):\n",
    "        return complex(self._a+c._a, self._b+c._b)\n",
    "    def __sub__(self,c):\n",
    "        return complex(self._a - c._a, self._b - c._b)\n",
    "    def __mul__(self,c):\n",
    "        return complex(self._a*c._a  - self._b*c._b, self._a*c._b + self._b+c._a)"
   ]
  },
  {
   "cell_type": "code",
   "execution_count": 41,
   "metadata": {},
   "outputs": [
    {
     "name": "stdout",
     "output_type": "stream",
     "text": [
      "(-4+7j)\n"
     ]
    }
   ],
   "source": [
    "n1 = Complex(1,2)\n",
    "n2 = Complex(2,3)\n",
    "n3 = n1+n2\n",
    "n4 = n1-n2\n",
    "n5 = n1*n2\n",
    "print(n5)"
   ]
  },
  {
   "cell_type": "markdown",
   "metadata": {},
   "source": [
    "### Write a Binary class that can take a list representation of a binary number. Add functions -value, that returns the decimal representation of the binary number."
   ]
  },
  {
   "cell_type": "code",
   "execution_count": 3,
   "metadata": {},
   "outputs": [],
   "source": [
    "class Binary:\n",
    "    def __init__(self,length):\n",
    "        self.ls = [0]*length\n",
    "    def __setitem__(self,value,index):\n",
    "        self.ls[index] = value\n",
    "    def Value(self):\n",
    "        decimal_num = 0\n",
    "        for i in range(len(self.ls)):\n",
    "            decimal_num = decimal_num + self.ls[i]* 2**(len(self.ls)-i-1)\n",
    "        return decimal_num"
   ]
  },
  {
   "cell_type": "code",
   "execution_count": 2,
   "metadata": {},
   "outputs": [
    {
     "data": {
      "text/plain": [
       "'[0, 1, 1, 1]_7'"
      ]
     },
     "execution_count": 2,
     "metadata": {},
     "output_type": "execute_result"
    }
   ],
   "source": [
    "v = Binary(4)\n",
    "v.__setitem__(1,3)\n",
    "v.__setitem__(1,2)\n",
    "v.__setitem__(1,1)\n",
    "v.__setitem__(0,0)\n",
    "v.Value()"
   ]
  },
  {
   "cell_type": "markdown",
   "metadata": {},
   "source": [
    "### Write a LinearRegression class that can solve a linear regression problem - given X and y. The problem is formulated as X(beta) = y. Add a function fit that returns the value of beta. The solution for beta is beta = (𝑋𝑇𝑋)−1𝑋𝑇. Use numpy"
   ]
  },
  {
   "cell_type": "code",
   "execution_count": 106,
   "metadata": {},
   "outputs": [],
   "source": [
    "import numpy as np\n",
    "class LinearRregression:\n",
    "    def __init__(self,X,y):\n",
    "        self.X = X\n",
    "        self.y = y\n",
    "    def parameter(self):\n",
    "        a = np.linalg.inv(np.dot(self.X.T,self.X))\n",
    "        b = np.dot(self.X.T,self.y)\n",
    "        beta = np.dot(a,b)\n",
    "        return beta"
   ]
  },
  {
   "cell_type": "code",
   "execution_count": 110,
   "metadata": {},
   "outputs": [
    {
     "name": "stdout",
     "output_type": "stream",
     "text": [
      "[-1.  1.]\n"
     ]
    }
   ],
   "source": [
    "X = np.arange(1,5).reshape(2,2)\n",
    "X\n",
    "y = np.array((1,1))\n",
    "y\n",
    "b = LinearRregression(X,y)\n",
    "print(b.parameter())"
   ]
  },
  {
   "cell_type": "markdown",
   "metadata": {},
   "source": [
    "### Write a Python program using class to convert a roman number to an integer"
   ]
  },
  {
   "cell_type": "code",
   "execution_count": 112,
   "metadata": {},
   "outputs": [
    {
     "name": "stdout",
     "output_type": "stream",
     "text": [
      "Enter a roman number iX\n",
      "9\n"
     ]
    }
   ],
   "source": [
    "class RomanNumber:\n",
    "    def __init__(self,rnum):\n",
    "        self.rnum = rnum\n",
    "    def integer(self):\n",
    "\n",
    "        dict = {'I' : 1, 'V' : 5, 'X' : 10, 'L' : 50, 'C' : 100, 'M' : 1000}\n",
    "\n",
    "        n = len(self.rnum)\n",
    "\n",
    "        p = 0\n",
    "\n",
    "        integer = 0\n",
    "\n",
    "   \n",
    "\n",
    "        for i in range((n-1), -1, -1):\n",
    "\n",
    "            if dict[self.rnum[i]] >= p:\n",
    "\n",
    "                integer += dict[self.rnum[i]]\n",
    "\n",
    "            else:\n",
    "\n",
    "                integer -= dict[self.rnum[i]]\n",
    "\n",
    "           \n",
    "\n",
    "            p = dict[self.rnum[i]]\n",
    "\n",
    "       \n",
    "\n",
    "        return integer\n",
    "\n",
    " \n",
    "\n",
    "r = input(\"Enter a roman number \")\n",
    "\n",
    "a= RomanNumber(r.upper())\n",
    "print(a.integer())"
   ]
  },
  {
   "cell_type": "markdown",
   "metadata": {},
   "source": [
    "### Write a Python code using class to get the set of three elements having sum to zero from an array of n real numbers"
   ]
  },
  {
   "cell_type": "code",
   "execution_count": 23,
   "metadata": {},
   "outputs": [],
   "source": [
    "class sum_zero:\n",
    "    def __init__(self,l):\n",
    "        self.ls = l.sort()\n",
    "    \n",
    "    def __getelements__(self):\n",
    "        for i in range(0,len(self._ls)-1):\n",
    "            l = self._ls[]"
   ]
  },
  {
   "cell_type": "code",
   "execution_count": 21,
   "metadata": {},
   "outputs": [
    {
     "data": {
      "text/plain": [
       "[1, 2, 3, 4, 6]"
      ]
     },
     "execution_count": 21,
     "metadata": {},
     "output_type": "execute_result"
    }
   ],
   "source": [
    "l = [3,1,6,4,2]\n",
    "l.sort()\n",
    "l"
   ]
  },
  {
   "cell_type": "code",
   "execution_count": 24,
   "metadata": {},
   "outputs": [
    {
     "ename": "NameError",
     "evalue": "name 'pi' is not defined",
     "output_type": "error",
     "traceback": [
      "\u001b[1;31m---------------------------------------------------------------------------\u001b[0m",
      "\u001b[1;31mNameError\u001b[0m                                 Traceback (most recent call last)",
      "\u001b[1;32m<ipython-input-24-878c79debdc6>\u001b[0m in \u001b[0;36m<module>\u001b[1;34m\u001b[0m\n\u001b[0;32m      1\u001b[0m \u001b[1;32mimport\u001b[0m \u001b[0mmath\u001b[0m\u001b[1;33m\u001b[0m\u001b[1;33m\u001b[0m\u001b[0m\n\u001b[1;32m----> 2\u001b[1;33m \u001b[0mpi\u001b[0m\u001b[1;33m\u001b[0m\u001b[1;33m\u001b[0m\u001b[0m\n\u001b[0m",
      "\u001b[1;31mNameError\u001b[0m: name 'pi' is not defined"
     ]
    }
   ],
   "source": [
    "import math\n",
    "pi"
   ]
  },
  {
   "cell_type": "code",
   "execution_count": 25,
   "metadata": {},
   "outputs": [
    {
     "data": {
      "text/plain": [
       "3.141592653589793"
      ]
     },
     "execution_count": 25,
     "metadata": {},
     "output_type": "execute_result"
    }
   ],
   "source": [
    "math.p"
   ]
  }
 ],
 "metadata": {
  "kernelspec": {
   "display_name": "Python 3",
   "language": "python",
   "name": "python3"
  },
  "language_info": {
   "codemirror_mode": {
    "name": "ipython",
    "version": 3
   },
   "file_extension": ".py",
   "mimetype": "text/x-python",
   "name": "python",
   "nbconvert_exporter": "python",
   "pygments_lexer": "ipython3",
   "version": "3.7.6"
  }
 },
 "nbformat": 4,
 "nbformat_minor": 4
}
